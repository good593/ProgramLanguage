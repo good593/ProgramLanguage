{
 "cells": [
  {
   "cell_type": "markdown",
   "metadata": {},
   "source": [
    "# [datetime](https://datascienceschool.net/01%20python/02.15%20%ED%8C%8C%EC%9D%B4%EC%8D%AC%EC%97%90%EC%84%9C%20%EB%82%A0%EC%A7%9C%EC%99%80%20%EC%8B%9C%EA%B0%84%20%EB%8B%A4%EB%A3%A8%EA%B8%B0.html)\n",
    "파이썬의 표준 라이브러리로, 날짜와 시간을 처리하는 다양한 클래스와 함수를 제공합니다. 간단한 날짜 연산부터 현지 시간과 타임존을 다룰 수 있습니다."
   ]
  },
  {
   "cell_type": "markdown",
   "metadata": {},
   "source": [
    "## datetime\n",
    "datetime 객체는 date와 time 객체의 정보를 모두 받을 수 있다. "
   ]
  },
  {
   "cell_type": "code",
   "execution_count": 10,
   "metadata": {
    "id": "w8saBodtVIOW"
   },
   "outputs": [],
   "source": [
    "from datetime import datetime"
   ]
  },
  {
   "cell_type": "markdown",
   "metadata": {},
   "source": [
    "`now 클래스 메서드`는 컴퓨터의 현재 시각을 datetime 클래스 객체로 만들어 반환한다. datetime 클래스 객체는 다음과 같은 속성을 가진다.\n",
    "- year: 연도\n",
    "- month: 월\n",
    "- day: 일\n",
    "- hour: 시\n",
    "- minute: 분\n",
    "- second: 초\n",
    "- microsecond: 마이크로초(micro seconds, 백만분의 일초)\n",
    "\n"
   ]
  },
  {
   "cell_type": "code",
   "execution_count": 11,
   "metadata": {
    "id": "BQmL73Wn1p6W"
   },
   "outputs": [
    {
     "data": {
      "text/plain": [
       "datetime.datetime(2024, 12, 23, 12, 27, 20, 526794)"
      ]
     },
     "execution_count": 11,
     "metadata": {},
     "output_type": "execute_result"
    }
   ],
   "source": [
    "now = datetime.now()\n",
    "now"
   ]
  },
  {
   "cell_type": "code",
   "execution_count": 12,
   "metadata": {
    "id": "rn6ojE9y2yVO"
   },
   "outputs": [
    {
     "data": {
      "text/plain": [
       "(2024, 12, 23, 12, 27, 20, 526794)"
      ]
     },
     "execution_count": 12,
     "metadata": {},
     "output_type": "execute_result"
    }
   ],
   "source": [
    "now.year, now.month, now.day, now.hour, now.minute, now.second, now.microsecond"
   ]
  },
  {
   "cell_type": "code",
   "execution_count": 14,
   "metadata": {},
   "outputs": [
    {
     "data": {
      "text/plain": [
       "datetime.date(2024, 12, 23)"
      ]
     },
     "execution_count": 14,
     "metadata": {},
     "output_type": "execute_result"
    }
   ],
   "source": [
    "now.date()"
   ]
  },
  {
   "cell_type": "code",
   "execution_count": 15,
   "metadata": {},
   "outputs": [
    {
     "data": {
      "text/plain": [
       "datetime.time(12, 27, 20, 526794)"
      ]
     },
     "execution_count": 15,
     "metadata": {},
     "output_type": "execute_result"
    }
   ],
   "source": [
    "now.time()"
   ]
  },
  {
   "cell_type": "markdown",
   "metadata": {},
   "source": [
    "`weekday`: 요일 반환 (0:월, 1:화, 2:수, 3:목, 4:금, 5:토, 6:일)"
   ]
  },
  {
   "cell_type": "code",
   "execution_count": 8,
   "metadata": {
    "id": "oi6lMfJFVd8C"
   },
   "outputs": [
    {
     "data": {
      "text/plain": [
       "0"
      ]
     },
     "execution_count": 8,
     "metadata": {},
     "output_type": "execute_result"
    }
   ],
   "source": [
    "now.weekday()  # {0:월, 1:화, 2:수, 3:목, 4:금, 5:토, 6:일}"
   ]
  },
  {
   "cell_type": "markdown",
   "metadata": {},
   "source": [
    "`strftime`: 문자열 반환\n",
    "- `%Y`: 앞의 빈자리를 0으로 채우는 4자리 연도 숫자\n",
    "- `%m`: 앞의 빈자리를 0으로 채우는 2자리 월 숫자\n",
    "- `%d`: 앞의 빈자리를 0으로 채우는 2자리 일 숫자\n",
    "- `%H`: 앞의 빈자리를 0으로 채우는 24시간 형식 2자리 시간 숫자\n",
    "- `%M`: 앞의 빈자리를 0으로 채우는 2자리 분 숫자\n",
    "- `%S`: 앞의 빈자리를 0으로 채우는 2자리 초 숫자\n",
    "- `%A`: 영어로 된 요일 문자열\n",
    "- `%B`: 영어로 된 월 문자열"
   ]
  },
  {
   "cell_type": "code",
   "execution_count": 9,
   "metadata": {
    "id": "GOHfG3JwVg-8"
   },
   "outputs": [
    {
     "data": {
      "text/plain": [
       "'Monday 23. December 2024'"
      ]
     },
     "execution_count": 9,
     "metadata": {},
     "output_type": "execute_result"
    }
   ],
   "source": [
    "now.strftime(\"%A %d. %B %Y\")"
   ]
  },
  {
   "cell_type": "code",
   "execution_count": 10,
   "metadata": {},
   "outputs": [
    {
     "data": {
      "text/plain": [
       "'11시 28분 18초'"
      ]
     },
     "execution_count": 10,
     "metadata": {},
     "output_type": "execute_result"
    }
   ],
   "source": [
    "now.strftime(\"%H시 %M분 %S초\")"
   ]
  },
  {
   "cell_type": "markdown",
   "metadata": {},
   "source": [
    "`strptime`: 문자열로부터 날짜와 시간 정보를 읽어서 datetime 클래스 객체로 변환 "
   ]
  },
  {
   "cell_type": "code",
   "execution_count": 11,
   "metadata": {},
   "outputs": [
    {
     "data": {
      "text/plain": [
       "datetime.datetime(2017, 1, 2, 14, 44)"
      ]
     },
     "execution_count": 11,
     "metadata": {},
     "output_type": "execute_result"
    }
   ],
   "source": [
    "datetime.strptime(\"2017-01-02 14:44\", \"%Y-%m-%d %H:%M\")"
   ]
  },
  {
   "cell_type": "markdown",
   "metadata": {},
   "source": [
    "## timedelta\n",
    "날짜나 시간의 간격을 구할 때는 두 개의 datetime 클래스 객체의 차이를 구한다. 이 결과는 timedelta 클래스 객체로 반환된다.\n",
    "- 속성 \t\n",
    "\t- `days`: 일수\n",
    "\t- `seconds`: 초 (0 ~ 86399)\n",
    "\t- `microseconds`: 마이크로초 (0 and 999999)\n",
    "- 메서드\n",
    "\t- `total_seconds()`: 모든 속성을 초단위로 모아서 변환"
   ]
  },
  {
   "cell_type": "code",
   "execution_count": 5,
   "metadata": {},
   "outputs": [],
   "source": [
    "from datetime import datetime, timedelta"
   ]
  },
  {
   "cell_type": "code",
   "execution_count": 16,
   "metadata": {},
   "outputs": [
    {
     "data": {
      "text/plain": [
       "datetime.timedelta(days=48, seconds=3600)"
      ]
     },
     "execution_count": 16,
     "metadata": {},
     "output_type": "execute_result"
    }
   ],
   "source": [
    "dt1 = datetime(2016, 2, 19, 14)\n",
    "dt2 = datetime(2016, 1, 2, 13)\n",
    "td = dt1 - dt2\n",
    "td"
   ]
  },
  {
   "cell_type": "code",
   "execution_count": 17,
   "metadata": {},
   "outputs": [
    {
     "data": {
      "text/plain": [
       "(48, 3600, 0)"
      ]
     },
     "execution_count": 17,
     "metadata": {},
     "output_type": "execute_result"
    }
   ],
   "source": [
    "td.days, td.seconds, td.microseconds"
   ]
  },
  {
   "cell_type": "markdown",
   "metadata": {},
   "source": [
    "반대로 datetime 클래스 객체에 timedelta 클래스 객체를 더해서 새로운 시간을 구할 수도 있다."
   ]
  },
  {
   "cell_type": "code",
   "execution_count": 16,
   "metadata": {},
   "outputs": [
    {
     "data": {
      "text/plain": [
       "datetime.datetime(2024, 12, 22, 9, 0, 19, 656454)"
      ]
     },
     "execution_count": 16,
     "metadata": {},
     "output_type": "execute_result"
    }
   ],
   "source": [
    "# 현재 날짜 및 시간 객체\n",
    "current_datetime = datetime.now()\n",
    "\n",
    "# 상대적인 시간 표현을 위해 timedelta 객체 생성\n",
    "time_difference = timedelta(days=1, hours=3, minutes=30)\n",
    "\n",
    "# 현재 시간으로부터 지난 시간 계산\n",
    "result_datetime = current_datetime - time_difference\n",
    "\n",
    "result_datetime"
   ]
  },
  {
   "cell_type": "markdown",
   "metadata": {},
   "source": [
    "# [dateutil](https://hangbok-archive.com/development/python/%ED%8C%8C%EC%9D%B4%EC%8D%AC-datetime-dateuti/#timezone_astimezone_datetime_%EB%9D%BC%EC%9D%B4%EB%B8%8C%EB%9F%AC%EB%A6%AC)\n",
    "날짜 및 시간 연산을 더 편리하게 다루기 위한 서드 파티 라이브러리로, datetime 모듈의 확장 기능으로 사용됩니다. 복잡한 날짜 규칙 및 타임존을 다루기 쉽게 만들어줍니다."
   ]
  },
  {
   "cell_type": "markdown",
   "metadata": {},
   "source": [
    "## parse\n",
    "- `strptime 클래스 메서드`를 사용할 때는 문자열에 맞는 형식 문자열을 사용자가 제공해야 한다. \n",
    "- 그러나 `dateutil 패키지의 parse 함수`를 쓰면 자동으로 형식 문자열을 찾아 datetime 클래스 객체를 만들어 준다."
   ]
  },
  {
   "cell_type": "code",
   "execution_count": 1,
   "metadata": {},
   "outputs": [],
   "source": [
    "from dateutil.parser import parse"
   ]
  },
  {
   "cell_type": "code",
   "execution_count": 2,
   "metadata": {},
   "outputs": [
    {
     "data": {
      "text/plain": [
       "datetime.datetime(2016, 4, 16, 0, 0)"
      ]
     },
     "execution_count": 2,
     "metadata": {},
     "output_type": "execute_result"
    }
   ],
   "source": [
    "parse('2016-04-16')"
   ]
  },
  {
   "cell_type": "code",
   "execution_count": 3,
   "metadata": {},
   "outputs": [
    {
     "data": {
      "text/plain": [
       "datetime.datetime(2016, 4, 16, 16, 5, 32)"
      ]
     },
     "execution_count": 3,
     "metadata": {},
     "output_type": "execute_result"
    }
   ],
   "source": [
    "parse(\"Apr 16, 2016 04:05:32 PM\")"
   ]
  },
  {
   "cell_type": "markdown",
   "metadata": {},
   "source": [
    "## relativedelta\n",
    "- `timedelta의 단점`은 날짜와 초 단위로만 연산을 할 수 있다는 점이다. \n",
    "- 이를 보완하기 위해 `dateutil 패키지는 월 단위의 계산을 지원`하는 relativedelta 클래스를 제공한다."
   ]
  },
  {
   "cell_type": "code",
   "execution_count": 8,
   "metadata": {},
   "outputs": [
    {
     "data": {
      "text/plain": [
       "datetime.datetime(2018, 11, 2, 16, 30)"
      ]
     },
     "execution_count": 8,
     "metadata": {},
     "output_type": "execute_result"
    }
   ],
   "source": [
    "from dateutil.relativedelta import relativedelta\n",
    "\n",
    "t0 = datetime(2018, 9, 1, 13)\n",
    "t0 + relativedelta(months=2, days=1, hours=3, minutes=30)"
   ]
  },
  {
   "cell_type": "markdown",
   "metadata": {},
   "source": [
    "## timezone\n",
    "dateutil의 tz 와 gettz를 이용하면 특정 타임존 시간으로 쉽게 변환할 수 있습니다.\n",
    "- `America/New_York`: 미국 동부의 타임존\n",
    "- `Europe/London`: 영국의 타임존\n",
    "- `Asia/Tokyo`: 일본의 타임존\n",
    "- `Asia/Korea`: 대한민국의 타임존\n",
    "- `Australia/Sydney`: 호주 동부의 타임존"
   ]
  },
  {
   "cell_type": "code",
   "execution_count": 9,
   "metadata": {},
   "outputs": [
    {
     "name": "stdout",
     "output_type": "stream",
     "text": [
      "Current Time (UTC): 2024-12-23 03:25:06.434340+00:00\n",
      "Current Time (New York): 2024-12-22 22:25:06.434340-05:00\n"
     ]
    }
   ],
   "source": [
    "from datetime import datetime\n",
    "from dateutil import tz\n",
    "\n",
    "# UTC(표준 시간) 타임존 생성\n",
    "utc_timezone = tz.tzutc()\n",
    "\n",
    "# 현재 시간을 UTC로 설정\n",
    "current_time_utc = datetime.now(utc_timezone)\n",
    "\n",
    "print(\"Current Time (UTC):\", current_time_utc)  # Current Time (UTC): 2024-02-23 03:23:31.356146+00:00\n",
    "\n",
    "# 뉴욕 타임존 생성\n",
    "ny_timezone = tz.gettz(\"America/New_York\")\n",
    "\n",
    "# UTC 시간을 뉴욕 타임존으로 변환\n",
    "current_time_ny = current_time_utc.replace(\n",
    "    tzinfo=utc_timezone).astimezone(ny_timezone)\n",
    "\n",
    "print(\"Current Time (New York):\", current_time_ny)  # Current Time (New York): 2024-02-22 22:23:31.356146-05:00"
   ]
  },
  {
   "cell_type": "markdown",
   "metadata": {},
   "source": [
    "# [time](https://m.blog.naver.com/artmancg/223486780862)"
   ]
  },
  {
   "cell_type": "code",
   "execution_count": null,
   "metadata": {},
   "outputs": [],
   "source": [
    "import time "
   ]
  },
  {
   "cell_type": "markdown",
   "metadata": {},
   "source": [
    "## time()\n",
    "- 현재시간을 반환합니다.\n",
    "- 1970년 1월 1일 0시 0분 0초(UTC)부터 경화 시간을 초단위로 반환합니다."
   ]
  },
  {
   "cell_type": "code",
   "execution_count": 17,
   "metadata": {},
   "outputs": [
    {
     "data": {
      "text/plain": [
       "1734925292.955851"
      ]
     },
     "execution_count": 17,
     "metadata": {},
     "output_type": "execute_result"
    }
   ],
   "source": [
    "current_time = time.time()\n",
    "current_time "
   ]
  },
  {
   "cell_type": "markdown",
   "metadata": {},
   "source": [
    "## sleep(seconds)\n",
    "- 주어진 시간(초 단위) 동안 실행을 일시 중지합니다.\n",
    "- 이 함수는 일정한 시간이 경과한 후에 실행되는 코드를 작성할 때 유용하게 사용됩니다."
   ]
  },
  {
   "cell_type": "code",
   "execution_count": 18,
   "metadata": {},
   "outputs": [
    {
     "name": "stdout",
     "output_type": "stream",
     "text": [
      "hi~\n",
      "good job\n"
     ]
    }
   ],
   "source": [
    "print(\"hi~\")\n",
    "time.sleep(3) # 3초 동안 일시 중지 \n",
    "print(\"good job\")"
   ]
  },
  {
   "cell_type": "markdown",
   "metadata": {},
   "source": [
    "## gmtime()\n",
    "- 초 단위의 시간을 UTC 시간대의 struct_time 객체로 반환합니다.\n",
    "- 인자가 없으면 현재시간을 사용합니다."
   ]
  },
  {
   "cell_type": "code",
   "execution_count": 20,
   "metadata": {},
   "outputs": [
    {
     "data": {
      "text/plain": [
       "time.struct_time(tm_year=2024, tm_mon=12, tm_mday=23, tm_hour=3, tm_min=47, tm_sec=7, tm_wday=0, tm_yday=358, tm_isdst=0)"
      ]
     },
     "execution_count": 20,
     "metadata": {},
     "output_type": "execute_result"
    }
   ],
   "source": [
    "current_time = time.gmtime()\n",
    "current_time"
   ]
  },
  {
   "cell_type": "code",
   "execution_count": 21,
   "metadata": {},
   "outputs": [
    {
     "data": {
      "text/plain": [
       "(2024, 12, 23)"
      ]
     },
     "execution_count": 21,
     "metadata": {},
     "output_type": "execute_result"
    }
   ],
   "source": [
    "current_time.tm_year, current_time.tm_mon, current_time.tm_mday "
   ]
  },
  {
   "cell_type": "markdown",
   "metadata": {},
   "source": [
    "## mktime(t)\n",
    "- struct_time 객체를 초 단위의 시간으로 반환합니다."
   ]
  },
  {
   "cell_type": "code",
   "execution_count": 22,
   "metadata": {},
   "outputs": [
    {
     "data": {
      "text/plain": [
       "1734893478.0"
      ]
     },
     "execution_count": 22,
     "metadata": {},
     "output_type": "execute_result"
    }
   ],
   "source": [
    "current_time = time.gmtime()\n",
    "time.mktime(current_time)"
   ]
  },
  {
   "cell_type": "markdown",
   "metadata": {},
   "source": [
    "## asctime(t)\n",
    "- struct_time 객체를 사람이 읽을 수 있는 형식의 문자열로 반환합니다."
   ]
  },
  {
   "cell_type": "code",
   "execution_count": 23,
   "metadata": {},
   "outputs": [
    {
     "data": {
      "text/plain": [
       "'Mon Dec 23 03:52:42 2024'"
      ]
     },
     "execution_count": 23,
     "metadata": {},
     "output_type": "execute_result"
    }
   ],
   "source": [
    "current_time = time.gmtime()\n",
    "time.asctime(current_time)"
   ]
  },
  {
   "cell_type": "code",
   "execution_count": null,
   "metadata": {},
   "outputs": [],
   "source": []
  }
 ],
 "metadata": {
  "colab": {
   "authorship_tag": "ABX9TyO3jfG5cu54aupgGf5JOswe",
   "provenance": [],
   "toc_visible": true
  },
  "kernelspec": {
   "display_name": "stock-venv",
   "language": "python",
   "name": "python3"
  },
  "language_info": {
   "codemirror_mode": {
    "name": "ipython",
    "version": 3
   },
   "file_extension": ".py",
   "mimetype": "text/x-python",
   "name": "python",
   "nbconvert_exporter": "python",
   "pygments_lexer": "ipython3",
   "version": "3.11.3"
  }
 },
 "nbformat": 4,
 "nbformat_minor": 0
}
