{
 "cells": [
  {
   "cell_type": "markdown",
   "metadata": {
    "id": "Oz8sCL_lGQjX"
   },
   "source": [
    "# 조건문\n",
    "조건의 결과에 따라 처리를 다르게 하는 방법 \n",
    "\n",
    "```python\n",
    "if 조건문:\n",
    "  # 조건이 참이면, 실행 \n",
    "  print('조건이 참')\n",
    "else:\n",
    "  # if 조건이 거짓인 경우 실행 \n",
    "  print('조건 거짓')\n",
    "\n",
    "```"
   ]
  },
  {
   "cell_type": "code",
   "execution_count": 65,
   "metadata": {
    "colab": {
     "base_uri": "https://localhost:8080/"
    },
    "executionInfo": {
     "elapsed": 417,
     "status": "ok",
     "timestamp": 1678800066491,
     "user": {
      "displayName": "조경원",
      "userId": "10205523497785796707"
     },
     "user_tz": -540
    },
    "id": "p1YEa7GGGOAt",
    "outputId": "e27882a2-b746-4070-e7b9-a36e497072ff"
   },
   "outputs": [
    {
     "name": "stdout",
     "output_type": "stream",
     "text": [
      "~~~~\n"
     ]
    }
   ],
   "source": [
    "a = 5 \n",
    "if a > 3:\n",
    "  print('~~~~')\n",
    "else:\n",
    "  print('@@@@')"
   ]
  },
  {
   "cell_type": "code",
   "execution_count": 66,
   "metadata": {
    "colab": {
     "base_uri": "https://localhost:8080/"
    },
    "executionInfo": {
     "elapsed": 514,
     "status": "ok",
     "timestamp": 1678800094365,
     "user": {
      "displayName": "조경원",
      "userId": "10205523497785796707"
     },
     "user_tz": -540
    },
    "id": "tbRGDWT4SB5P",
    "outputId": "3e8759a4-340a-4bc2-e9e6-118337c8c990"
   },
   "outputs": [
    {
     "name": "stdout",
     "output_type": "stream",
     "text": [
      "---\n"
     ]
    }
   ],
   "source": [
    "print('---') if a > 3 else print('@@@')"
   ]
  },
  {
   "cell_type": "code",
   "execution_count": null,
   "metadata": {
    "colab": {
     "base_uri": "https://localhost:8080/"
    },
    "executionInfo": {
     "elapsed": 323,
     "status": "ok",
     "timestamp": 1678780655619,
     "user": {
      "displayName": "조경원",
      "userId": "10205523497785796707"
     },
     "user_tz": -540
    },
    "id": "GpoODfqVH7ic",
    "outputId": "6c29b4c9-a36c-49dc-e0d7-166704b4a5f0"
   },
   "outputs": [
    {
     "name": "stdout",
     "output_type": "stream",
     "text": [
      "@@@@\n"
     ]
    }
   ],
   "source": [
    "a = 5 \n",
    "if a < 3:\n",
    "  print('~~~~')\n",
    "else:\n",
    "  print('@@@@')"
   ]
  },
  {
   "cell_type": "code",
   "execution_count": 67,
   "metadata": {
    "colab": {
     "base_uri": "https://localhost:8080/"
    },
    "executionInfo": {
     "elapsed": 2,
     "status": "ok",
     "timestamp": 1678800106756,
     "user": {
      "displayName": "조경원",
      "userId": "10205523497785796707"
     },
     "user_tz": -540
    },
    "id": "CcMZtN-rSJ3I",
    "outputId": "5ba62c63-804a-410b-d4c2-c121fb20e5c9"
   },
   "outputs": [
    {
     "name": "stdout",
     "output_type": "stream",
     "text": [
      "@@@\n"
     ]
    }
   ],
   "source": [
    "print('---') if a < 3 else print('@@@')"
   ]
  },
  {
   "cell_type": "code",
   "execution_count": null,
   "metadata": {
    "colab": {
     "base_uri": "https://localhost:8080/"
    },
    "executionInfo": {
     "elapsed": 7,
     "status": "ok",
     "timestamp": 1678780934541,
     "user": {
      "displayName": "조경원",
      "userId": "10205523497785796707"
     },
     "user_tz": -540
    },
    "id": "M6R37BEWIzi_",
    "outputId": "4f9a47ec-6369-40d4-d285-43b153268f7b"
   },
   "outputs": [
    {
     "name": "stdout",
     "output_type": "stream",
     "text": [
      "22222\n"
     ]
    }
   ],
   "source": [
    "if a > 10: # 10보다 큰 경우\n",
    "  print(111111)\n",
    "elif a > 3: # 3보다 큰 경우\n",
    "  print(22222)\n",
    "else: # 모든 조건이 맞지 않은 경우 \n",
    "  print(33333)"
   ]
  },
  {
   "cell_type": "code",
   "execution_count": null,
   "metadata": {
    "colab": {
     "base_uri": "https://localhost:8080/"
    },
    "executionInfo": {
     "elapsed": 5,
     "status": "ok",
     "timestamp": 1678781017791,
     "user": {
      "displayName": "조경원",
      "userId": "10205523497785796707"
     },
     "user_tz": -540
    },
    "id": "izlNUVPmJIcL",
    "outputId": "759e330d-e2b4-439c-dcac-a970f5cdb0f8"
   },
   "outputs": [
    {
     "name": "stdout",
     "output_type": "stream",
     "text": [
      "3333\n"
     ]
    }
   ],
   "source": [
    "a = -3\n",
    "\n",
    "if a > 0:\n",
    "  print(11111)\n",
    "elif a > -3:\n",
    "  print(2222)\n",
    "elif a > -7:\n",
    "  print(3333)\n",
    "else:\n",
    "  print(44444)"
   ]
  },
  {
   "cell_type": "markdown",
   "metadata": {
    "id": "cS1nWPivIZos"
   },
   "source": [
    "## 비교 연산자 "
   ]
  },
  {
   "cell_type": "markdown",
   "metadata": {
    "id": "ClF6IwWjIgFw"
   },
   "source": [
    "![image.png](data:image/png;base64,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)"
   ]
  },
  {
   "cell_type": "code",
   "execution_count": 1,
   "metadata": {
    "colab": {
     "base_uri": "https://localhost:8080/"
    },
    "executionInfo": {
     "elapsed": 7,
     "status": "ok",
     "timestamp": 1678796758840,
     "user": {
      "displayName": "조경원",
      "userId": "10205523497785796707"
     },
     "user_tz": -540
    },
    "id": "MD8NY9vMIfjp",
    "outputId": "37d8a47e-8cc9-4b28-bfea-71f0cbacd4e6"
   },
   "outputs": [
    {
     "data": {
      "text/plain": [
       "(3, 2)"
      ]
     },
     "execution_count": 1,
     "metadata": {},
     "output_type": "execute_result"
    }
   ],
   "source": [
    "x, y = 3, 2 \n",
    "x, y "
   ]
  },
  {
   "cell_type": "code",
   "execution_count": 2,
   "metadata": {
    "colab": {
     "base_uri": "https://localhost:8080/"
    },
    "executionInfo": {
     "elapsed": 6,
     "status": "ok",
     "timestamp": 1678796763015,
     "user": {
      "displayName": "조경원",
      "userId": "10205523497785796707"
     },
     "user_tz": -540
    },
    "id": "8DNyhZbGKvrW",
    "outputId": "0a6872fc-22da-41cc-d84e-09cd61703c83"
   },
   "outputs": [
    {
     "name": "stdout",
     "output_type": "stream",
     "text": [
      "1111\n"
     ]
    }
   ],
   "source": [
    "if x >= y:\n",
    "   print(1111)\n",
    "else:\n",
    "  print(2222)"
   ]
  },
  {
   "cell_type": "code",
   "execution_count": 3,
   "metadata": {
    "colab": {
     "base_uri": "https://localhost:8080/"
    },
    "executionInfo": {
     "elapsed": 5,
     "status": "ok",
     "timestamp": 1678796765003,
     "user": {
      "displayName": "조경원",
      "userId": "10205523497785796707"
     },
     "user_tz": -540
    },
    "id": "jxP4tfbbKvuT",
    "outputId": "10bff48b-036a-4cca-d189-a612ed2b83c1"
   },
   "outputs": [
    {
     "name": "stdout",
     "output_type": "stream",
     "text": [
      "2222\n"
     ]
    }
   ],
   "source": [
    "if x <= y:\n",
    "   print(1111)\n",
    "else:\n",
    "  print(2222)"
   ]
  },
  {
   "cell_type": "code",
   "execution_count": 5,
   "metadata": {
    "colab": {
     "base_uri": "https://localhost:8080/"
    },
    "executionInfo": {
     "elapsed": 592,
     "status": "ok",
     "timestamp": 1678796780975,
     "user": {
      "displayName": "조경원",
      "userId": "10205523497785796707"
     },
     "user_tz": -540
    },
    "id": "JoDlWXFtKyKj",
    "outputId": "1febd8ad-4a04-4047-b942-908b1df1a862"
   },
   "outputs": [
    {
     "name": "stdout",
     "output_type": "stream",
     "text": [
      "1111\n"
     ]
    }
   ],
   "source": [
    "if x != y:\n",
    "   print(1111)\n",
    "else:\n",
    "  print(2222)"
   ]
  },
  {
   "cell_type": "code",
   "execution_count": 4,
   "metadata": {
    "colab": {
     "base_uri": "https://localhost:8080/"
    },
    "executionInfo": {
     "elapsed": 6,
     "status": "ok",
     "timestamp": 1678796766824,
     "user": {
      "displayName": "조경원",
      "userId": "10205523497785796707"
     },
     "user_tz": -540
    },
    "id": "Q8W-JRSsKyHa",
    "outputId": "7cacd928-af76-4bdf-8a52-a36daba20913"
   },
   "outputs": [
    {
     "name": "stdout",
     "output_type": "stream",
     "text": [
      "2222\n"
     ]
    }
   ],
   "source": [
    "if x == y:\n",
    "   print(1111)\n",
    "else:\n",
    "  print(2222)"
   ]
  },
  {
   "cell_type": "code",
   "execution_count": 6,
   "metadata": {
    "colab": {
     "base_uri": "https://localhost:8080/"
    },
    "executionInfo": {
     "elapsed": 5,
     "status": "ok",
     "timestamp": 1678796797102,
     "user": {
      "displayName": "조경원",
      "userId": "10205523497785796707"
     },
     "user_tz": -540
    },
    "id": "YfR15E0vFc-1",
    "outputId": "45e08beb-f027-427e-ee4f-6cb1773f8b72"
   },
   "outputs": [
    {
     "name": "stdout",
     "output_type": "stream",
     "text": [
      "2222\n"
     ]
    }
   ],
   "source": [
    "if x is y:\n",
    "  print(1111)\n",
    "else:\n",
    "  print(2222)  "
   ]
  },
  {
   "cell_type": "markdown",
   "metadata": {
    "id": "lsnloYw-F8AA"
   },
   "source": [
    "데이터는 같지만, 메모리 주소가 다른 경우"
   ]
  },
  {
   "cell_type": "code",
   "execution_count": 7,
   "metadata": {
    "colab": {
     "base_uri": "https://localhost:8080/"
    },
    "executionInfo": {
     "elapsed": 5,
     "status": "ok",
     "timestamp": 1678796823881,
     "user": {
      "displayName": "조경원",
      "userId": "10205523497785796707"
     },
     "user_tz": -540
    },
    "id": "4gu6dpfZFkGG",
    "outputId": "8706484f-2c8e-45b0-8d51-fee6d5628532"
   },
   "outputs": [
    {
     "data": {
      "text/plain": [
       "(140546865212224, 140547130010880)"
      ]
     },
     "execution_count": 7,
     "metadata": {},
     "output_type": "execute_result"
    }
   ],
   "source": [
    "x = [1, 2, 3]\n",
    "y = [1, 2, 3]\n",
    "id(x), id(y)"
   ]
  },
  {
   "cell_type": "code",
   "execution_count": 8,
   "metadata": {
    "colab": {
     "base_uri": "https://localhost:8080/"
    },
    "executionInfo": {
     "elapsed": 5,
     "status": "ok",
     "timestamp": 1678796841400,
     "user": {
      "displayName": "조경원",
      "userId": "10205523497785796707"
     },
     "user_tz": -540
    },
    "id": "OL1Xq9UGFkY-",
    "outputId": "e3fd47a3-33b8-4bde-94db-f32fe61d9bbc"
   },
   "outputs": [
    {
     "name": "stdout",
     "output_type": "stream",
     "text": [
      "1111\n"
     ]
    }
   ],
   "source": [
    "if x == y: # 각 변수의 값을 비교\n",
    "   print(1111)\n",
    "else:\n",
    "  print(2222)"
   ]
  },
  {
   "cell_type": "code",
   "execution_count": 9,
   "metadata": {
    "colab": {
     "base_uri": "https://localhost:8080/"
    },
    "executionInfo": {
     "elapsed": 864,
     "status": "ok",
     "timestamp": 1678796852516,
     "user": {
      "displayName": "조경원",
      "userId": "10205523497785796707"
     },
     "user_tz": -540
    },
    "id": "-RCF42rbFkg7",
    "outputId": "5f053cca-8902-4505-fef1-82d09b52fa8f"
   },
   "outputs": [
    {
     "name": "stdout",
     "output_type": "stream",
     "text": [
      "2222\n"
     ]
    }
   ],
   "source": [
    "if x is y: # 각 변수의 메모리 주소 비교 \n",
    "  print(1111)\n",
    "else:\n",
    "  print(2222)  "
   ]
  },
  {
   "cell_type": "markdown",
   "metadata": {
    "id": "YzEvHzjYJb_y"
   },
   "source": [
    "![image.png](data:image/png;base64,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)"
   ]
  },
  {
   "cell_type": "code",
   "execution_count": 11,
   "metadata": {
    "executionInfo": {
     "elapsed": 331,
     "status": "ok",
     "timestamp": 1678797007434,
     "user": {
      "displayName": "조경원",
      "userId": "10205523497785796707"
     },
     "user_tz": -540
    },
    "id": "dsen9xOFIfmh"
   },
   "outputs": [],
   "source": [
    "x = True \n",
    "y = False "
   ]
  },
  {
   "cell_type": "code",
   "execution_count": 12,
   "metadata": {
    "colab": {
     "base_uri": "https://localhost:8080/"
    },
    "executionInfo": {
     "elapsed": 314,
     "status": "ok",
     "timestamp": 1678797024186,
     "user": {
      "displayName": "조경원",
      "userId": "10205523497785796707"
     },
     "user_tz": -540
    },
    "id": "W-jX7ToMGQLk",
    "outputId": "7a3d0e10-7ebf-487b-db62-7d1c8609cb2d"
   },
   "outputs": [
    {
     "name": "stdout",
     "output_type": "stream",
     "text": [
      "1111\n"
     ]
    }
   ],
   "source": [
    "if x or y:\n",
    "  print(1111)\n",
    "else:\n",
    "  print(2222)  "
   ]
  },
  {
   "cell_type": "code",
   "execution_count": 13,
   "metadata": {
    "colab": {
     "base_uri": "https://localhost:8080/"
    },
    "executionInfo": {
     "elapsed": 5,
     "status": "ok",
     "timestamp": 1678797035630,
     "user": {
      "displayName": "조경원",
      "userId": "10205523497785796707"
     },
     "user_tz": -540
    },
    "id": "sx3dR_Q-GQOt",
    "outputId": "9c1ab3c5-b310-40df-d1f9-de6c2da28de1"
   },
   "outputs": [
    {
     "name": "stdout",
     "output_type": "stream",
     "text": [
      "2222\n"
     ]
    }
   ],
   "source": [
    "if x and y:\n",
    "  print(1111)\n",
    "else:\n",
    "  print(2222) "
   ]
  },
  {
   "cell_type": "code",
   "execution_count": 14,
   "metadata": {
    "colab": {
     "base_uri": "https://localhost:8080/"
    },
    "executionInfo": {
     "elapsed": 360,
     "status": "ok",
     "timestamp": 1678797049207,
     "user": {
      "displayName": "조경원",
      "userId": "10205523497785796707"
     },
     "user_tz": -540
    },
    "id": "1MKnSx_bGQSD",
    "outputId": "75304f50-c244-45e3-edda-8c6bb7822eed"
   },
   "outputs": [
    {
     "name": "stdout",
     "output_type": "stream",
     "text": [
      "1111\n"
     ]
    }
   ],
   "source": [
    "if not y:\n",
    "  print(1111)\n",
    "else:\n",
    "  print(2222) "
   ]
  },
  {
   "cell_type": "code",
   "execution_count": 15,
   "metadata": {
    "executionInfo": {
     "elapsed": 974,
     "status": "ok",
     "timestamp": 1678797073942,
     "user": {
      "displayName": "조경원",
      "userId": "10205523497785796707"
     },
     "user_tz": -540
    },
    "id": "iWARjZHJGhW3"
   },
   "outputs": [],
   "source": [
    "x = 3\n",
    "y = 5\n",
    "z = 7"
   ]
  },
  {
   "cell_type": "code",
   "execution_count": 17,
   "metadata": {
    "colab": {
     "base_uri": "https://localhost:8080/"
    },
    "executionInfo": {
     "elapsed": 5,
     "status": "ok",
     "timestamp": 1678797131970,
     "user": {
      "displayName": "조경원",
      "userId": "10205523497785796707"
     },
     "user_tz": -540
    },
    "id": "CZqYaTmMGhaU",
    "outputId": "ee6d3b14-0ca7-4120-be1b-d90716a5cd1e"
   },
   "outputs": [
    {
     "name": "stdout",
     "output_type": "stream",
     "text": [
      "1111\n"
     ]
    }
   ],
   "source": [
    "if (x > y) or (z > y):\n",
    "  print(1111)\n",
    "else:\n",
    "  print(2222)"
   ]
  },
  {
   "cell_type": "code",
   "execution_count": 18,
   "metadata": {
    "colab": {
     "base_uri": "https://localhost:8080/"
    },
    "executionInfo": {
     "elapsed": 4,
     "status": "ok",
     "timestamp": 1678797142419,
     "user": {
      "displayName": "조경원",
      "userId": "10205523497785796707"
     },
     "user_tz": -540
    },
    "id": "Y5fPRo4FGhwA",
    "outputId": "03170f48-5c1c-4af2-8349-88104a5b4a7c"
   },
   "outputs": [
    {
     "name": "stdout",
     "output_type": "stream",
     "text": [
      "2222\n"
     ]
    }
   ],
   "source": [
    "if (x > y) and (z > y):\n",
    "  print(1111)\n",
    "else:\n",
    "  print(2222)"
   ]
  },
  {
   "cell_type": "code",
   "execution_count": 19,
   "metadata": {
    "colab": {
     "base_uri": "https://localhost:8080/"
    },
    "executionInfo": {
     "elapsed": 916,
     "status": "ok",
     "timestamp": 1678797153593,
     "user": {
      "displayName": "조경원",
      "userId": "10205523497785796707"
     },
     "user_tz": -540
    },
    "id": "hdpBHitjGh46",
    "outputId": "60066bb6-8d15-4155-cd25-3c666276306a"
   },
   "outputs": [
    {
     "name": "stdout",
     "output_type": "stream",
     "text": [
      "2222\n"
     ]
    }
   ],
   "source": [
    "if not (z > y):\n",
    "  print(1111)\n",
    "else:\n",
    "  print(2222)"
   ]
  },
  {
   "cell_type": "markdown",
   "metadata": {
    "id": "waZxkqUfJoXY"
   },
   "source": [
    "![image.png](data:image/png;base64,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)"
   ]
  },
  {
   "cell_type": "code",
   "execution_count": 20,
   "metadata": {
    "executionInfo": {
     "elapsed": 319,
     "status": "ok",
     "timestamp": 1678797188262,
     "user": {
      "displayName": "조경원",
      "userId": "10205523497785796707"
     },
     "user_tz": -540
    },
    "id": "LUlQKOzEJn8I"
   },
   "outputs": [],
   "source": [
    "y = [1, 2, 3, 4, 5]\n",
    "x = 3"
   ]
  },
  {
   "cell_type": "code",
   "execution_count": 21,
   "metadata": {
    "colab": {
     "base_uri": "https://localhost:8080/"
    },
    "executionInfo": {
     "elapsed": 385,
     "status": "ok",
     "timestamp": 1678797232376,
     "user": {
      "displayName": "조경원",
      "userId": "10205523497785796707"
     },
     "user_tz": -540
    },
    "id": "o7gT-oRZHDaf",
    "outputId": "c13e0b40-8913-4aa0-cacd-652d3cafcb4f"
   },
   "outputs": [
    {
     "name": "stdout",
     "output_type": "stream",
     "text": [
      "1111\n"
     ]
    }
   ],
   "source": [
    "if x in y:\n",
    "  print(1111)\n",
    "else:\n",
    "  print(2222)"
   ]
  },
  {
   "cell_type": "code",
   "execution_count": 22,
   "metadata": {
    "colab": {
     "base_uri": "https://localhost:8080/"
    },
    "executionInfo": {
     "elapsed": 4,
     "status": "ok",
     "timestamp": 1678797243851,
     "user": {
      "displayName": "조경원",
      "userId": "10205523497785796707"
     },
     "user_tz": -540
    },
    "id": "kWVmNDNMHDdl",
    "outputId": "dfe3c48c-680d-4960-b21b-5ef82b5a82e3"
   },
   "outputs": [
    {
     "name": "stdout",
     "output_type": "stream",
     "text": [
      "2222\n"
     ]
    }
   ],
   "source": [
    "if x not in y:\n",
    "  print(1111)\n",
    "else:\n",
    "  print(2222)"
   ]
  },
  {
   "cell_type": "code",
   "execution_count": 23,
   "metadata": {
    "executionInfo": {
     "elapsed": 346,
     "status": "ok",
     "timestamp": 1678797276419,
     "user": {
      "displayName": "조경원",
      "userId": "10205523497785796707"
     },
     "user_tz": -540
    },
    "id": "z1r_y_mqHDg1"
   },
   "outputs": [],
   "source": [
    "y = tuple([1, 2, 3, 4, 5])\n",
    "x = 3"
   ]
  },
  {
   "cell_type": "code",
   "execution_count": 24,
   "metadata": {
    "colab": {
     "base_uri": "https://localhost:8080/"
    },
    "executionInfo": {
     "elapsed": 2,
     "status": "ok",
     "timestamp": 1678797283418,
     "user": {
      "displayName": "조경원",
      "userId": "10205523497785796707"
     },
     "user_tz": -540
    },
    "id": "1MEcXeVRHSmF",
    "outputId": "1fbe97c6-24ef-4a2d-8594-2b40602862f3"
   },
   "outputs": [
    {
     "name": "stdout",
     "output_type": "stream",
     "text": [
      "1111\n"
     ]
    }
   ],
   "source": [
    "if x in y:\n",
    "  print(1111)\n",
    "else:\n",
    "  print(2222)"
   ]
  },
  {
   "cell_type": "code",
   "execution_count": 25,
   "metadata": {
    "colab": {
     "base_uri": "https://localhost:8080/"
    },
    "executionInfo": {
     "elapsed": 6,
     "status": "ok",
     "timestamp": 1678797288570,
     "user": {
      "displayName": "조경원",
      "userId": "10205523497785796707"
     },
     "user_tz": -540
    },
    "id": "KOoEwurnHSpZ",
    "outputId": "2cd6fb27-5962-4d35-f31c-8a9fac03f035"
   },
   "outputs": [
    {
     "name": "stdout",
     "output_type": "stream",
     "text": [
      "2222\n"
     ]
    }
   ],
   "source": [
    "if x not in y:\n",
    "  print(1111)\n",
    "else:\n",
    "  print(2222)"
   ]
  },
  {
   "cell_type": "code",
   "execution_count": 26,
   "metadata": {
    "executionInfo": {
     "elapsed": 354,
     "status": "ok",
     "timestamp": 1678797311875,
     "user": {
      "displayName": "조경원",
      "userId": "10205523497785796707"
     },
     "user_tz": -540
    },
    "id": "x1ckXeqeHDlQ"
   },
   "outputs": [],
   "source": [
    "y = \"Hello world\"\n",
    "x = \"r\""
   ]
  },
  {
   "cell_type": "code",
   "execution_count": 27,
   "metadata": {
    "colab": {
     "base_uri": "https://localhost:8080/"
    },
    "executionInfo": {
     "elapsed": 336,
     "status": "ok",
     "timestamp": 1678797322635,
     "user": {
      "displayName": "조경원",
      "userId": "10205523497785796707"
     },
     "user_tz": -540
    },
    "id": "e1AGYK6_Hc-P",
    "outputId": "087b71d4-beeb-4484-8213-6c8d2dfa5c5d"
   },
   "outputs": [
    {
     "name": "stdout",
     "output_type": "stream",
     "text": [
      "1111\n"
     ]
    }
   ],
   "source": [
    "if x in y:\n",
    "  print(1111)\n",
    "else:\n",
    "  print(2222)"
   ]
  },
  {
   "cell_type": "code",
   "execution_count": 28,
   "metadata": {
    "colab": {
     "base_uri": "https://localhost:8080/"
    },
    "executionInfo": {
     "elapsed": 4,
     "status": "ok",
     "timestamp": 1678797327837,
     "user": {
      "displayName": "조경원",
      "userId": "10205523497785796707"
     },
     "user_tz": -540
    },
    "id": "s2wNxwc1HdBf",
    "outputId": "541b1e93-6d06-4057-b586-877b20748fec"
   },
   "outputs": [
    {
     "name": "stdout",
     "output_type": "stream",
     "text": [
      "2222\n"
     ]
    }
   ],
   "source": [
    "if x not in y:\n",
    "  print(1111)\n",
    "else:\n",
    "  print(2222)"
   ]
  },
  {
   "cell_type": "markdown",
   "metadata": {
    "id": "X7o8uxgzGTZe"
   },
   "source": [
    "# 반복문"
   ]
  },
  {
   "cell_type": "markdown",
   "metadata": {
    "id": "zZ9TFo2WIoet"
   },
   "source": [
    "## for\n",
    "list, tuple, str과 같이 인덱싱을 할 수 있는 자료형을 이용해서 반복문을 실행"
   ]
  },
  {
   "cell_type": "code",
   "execution_count": 63,
   "metadata": {
    "colab": {
     "base_uri": "https://localhost:8080/"
    },
    "executionInfo": {
     "elapsed": 5,
     "status": "ok",
     "timestamp": 1678800028145,
     "user": {
      "displayName": "조경원",
      "userId": "10205523497785796707"
     },
     "user_tz": -540
    },
    "id": "0rwXncqPIrBM",
    "outputId": "5f4ab21a-fef2-483e-8a81-a522a3b848aa"
   },
   "outputs": [
    {
     "name": "stdout",
     "output_type": "stream",
     "text": [
      "1\n",
      "2\n",
      "3\n"
     ]
    }
   ],
   "source": [
    "lst = [1, 2, 3]\n",
    "\n",
    "for i in lst:\n",
    "  print(i)"
   ]
  },
  {
   "cell_type": "code",
   "execution_count": 64,
   "metadata": {
    "colab": {
     "base_uri": "https://localhost:8080/"
    },
    "executionInfo": {
     "elapsed": 5,
     "status": "ok",
     "timestamp": 1678800038331,
     "user": {
      "displayName": "조경원",
      "userId": "10205523497785796707"
     },
     "user_tz": -540
    },
    "id": "4NCBRuVBR4f6",
    "outputId": "42cf0fa5-433b-4289-fcc3-1a74b813cc6a"
   },
   "outputs": [
    {
     "data": {
      "text/plain": [
       "[1, 2, 3]"
      ]
     },
     "execution_count": 64,
     "metadata": {},
     "output_type": "execute_result"
    }
   ],
   "source": [
    "[ i for i in lst ]"
   ]
  },
  {
   "cell_type": "code",
   "execution_count": 30,
   "metadata": {
    "colab": {
     "base_uri": "https://localhost:8080/"
    },
    "executionInfo": {
     "elapsed": 5,
     "status": "ok",
     "timestamp": 1678797774379,
     "user": {
      "displayName": "조경원",
      "userId": "10205523497785796707"
     },
     "user_tz": -540
    },
    "id": "4bwINNzGJHxe",
    "outputId": "5035b68a-fcb4-4fbd-c41c-73ccd1da3bd5"
   },
   "outputs": [
    {
     "name": "stdout",
     "output_type": "stream",
     "text": [
      "a\n",
      "b\n",
      "c\n"
     ]
    }
   ],
   "source": [
    "tup = ('a', 'b', 'c')\n",
    "\n",
    "for i in tup:\n",
    "  print(i)"
   ]
  },
  {
   "cell_type": "code",
   "execution_count": 62,
   "metadata": {
    "colab": {
     "base_uri": "https://localhost:8080/"
    },
    "executionInfo": {
     "elapsed": 4,
     "status": "ok",
     "timestamp": 1678800022481,
     "user": {
      "displayName": "조경원",
      "userId": "10205523497785796707"
     },
     "user_tz": -540
    },
    "id": "UPJPEAa5Rwcp",
    "outputId": "87ff872a-b2a2-420c-8951-4bca209c9e69"
   },
   "outputs": [
    {
     "data": {
      "text/plain": [
       "['a', 'b', 'c']"
      ]
     },
     "execution_count": 62,
     "metadata": {},
     "output_type": "execute_result"
    }
   ],
   "source": [
    "[ i for i in ('a', 'b', 'c') ]"
   ]
  },
  {
   "cell_type": "code",
   "execution_count": 31,
   "metadata": {
    "colab": {
     "base_uri": "https://localhost:8080/"
    },
    "executionInfo": {
     "elapsed": 7,
     "status": "ok",
     "timestamp": 1678797809296,
     "user": {
      "displayName": "조경원",
      "userId": "10205523497785796707"
     },
     "user_tz": -540
    },
    "id": "0JjUJORzJS7j",
    "outputId": "ae9bae1a-bdd8-448b-d98e-32935016a4d4"
   },
   "outputs": [
    {
     "name": "stdout",
     "output_type": "stream",
     "text": [
      "가\n",
      "나\n",
      "다\n"
     ]
    }
   ],
   "source": [
    "string = \"가나다\"\n",
    "\n",
    "for i in string:\n",
    "  print(i)"
   ]
  },
  {
   "cell_type": "code",
   "execution_count": 61,
   "metadata": {
    "colab": {
     "base_uri": "https://localhost:8080/"
    },
    "executionInfo": {
     "elapsed": 320,
     "status": "ok",
     "timestamp": 1678799991981,
     "user": {
      "displayName": "조경원",
      "userId": "10205523497785796707"
     },
     "user_tz": -540
    },
    "id": "N__mGDDwRldD",
    "outputId": "54245847-1096-49b4-9715-dc7019039413"
   },
   "outputs": [
    {
     "data": {
      "text/plain": [
       "['가', '나', '다']"
      ]
     },
     "execution_count": 61,
     "metadata": {},
     "output_type": "execute_result"
    }
   ],
   "source": [
    "[ i for i in \"가나다\" ]"
   ]
  },
  {
   "cell_type": "markdown",
   "metadata": {
    "id": "gXUEUYqQK3QN"
   },
   "source": [
    "## for - continue, break, pass\n",
    "- pass:   \n",
    "실행할 코드가 없는 것으로 다음 행동을 계속해서 진행합니다.\n",
    "- break:    \n",
    "반복문(loop)을 멈추고 loop 밖으로 나가도록 합니다.\n",
    "- continue:   \n",
    "바로 다음 순번의 loop를 수행합니다."
   ]
  },
  {
   "cell_type": "code",
   "execution_count": 35,
   "metadata": {
    "colab": {
     "base_uri": "https://localhost:8080/"
    },
    "executionInfo": {
     "elapsed": 2,
     "status": "ok",
     "timestamp": 1678798544512,
     "user": {
      "displayName": "조경원",
      "userId": "10205523497785796707"
     },
     "user_tz": -540
    },
    "id": "nGRNQpgfK9HE",
    "outputId": "fa5d4236-205e-4a92-d72c-3c38c6a4223f"
   },
   "outputs": [
    {
     "data": {
      "text/plain": [
       "[1, 2, 3, 4, 5, 6, 7]"
      ]
     },
     "execution_count": 35,
     "metadata": {},
     "output_type": "execute_result"
    }
   ],
   "source": [
    "lst = [1,2,3,4,5,6,7]\n",
    "lst"
   ]
  },
  {
   "cell_type": "code",
   "execution_count": 51,
   "metadata": {
    "colab": {
     "base_uri": "https://localhost:8080/"
    },
    "executionInfo": {
     "elapsed": 407,
     "status": "ok",
     "timestamp": 1678799129650,
     "user": {
      "displayName": "조경원",
      "userId": "10205523497785796707"
     },
     "user_tz": -540
    },
    "id": "zsD2I2JwK9Kh",
    "outputId": "77825024-a7b1-44bd-9bec-13ab34b77cbc"
   },
   "outputs": [
    {
     "name": "stdout",
     "output_type": "stream",
     "text": [
      "\bi: 1\n",
      "\n",
      "\bi: 2\n",
      "\n",
      "start\n",
      "3의 배수: 3\n",
      "\n",
      "\bi: 4\n",
      "\n",
      "\bi: 5\n",
      "\n",
      "start\n",
      "3의 배수: 6\n",
      "\n",
      "\bi: 7\n",
      "\n"
     ]
    }
   ],
   "source": [
    "for i in lst:\n",
    "  if i % 3 == 0: \n",
    "    print(f'start')\n",
    "    pass\n",
    "    print(f'3의 배수: {i}\\n')\n",
    "  else:\n",
    "    print(f'\bi: {i}\\n')"
   ]
  },
  {
   "cell_type": "code",
   "execution_count": 52,
   "metadata": {
    "colab": {
     "base_uri": "https://localhost:8080/"
    },
    "executionInfo": {
     "elapsed": 1234,
     "status": "ok",
     "timestamp": 1678799140808,
     "user": {
      "displayName": "조경원",
      "userId": "10205523497785796707"
     },
     "user_tz": -540
    },
    "id": "tU9jXxE0MOM1",
    "outputId": "90e4a29d-2ea2-4cb2-88bd-c2f70fab8026"
   },
   "outputs": [
    {
     "name": "stdout",
     "output_type": "stream",
     "text": [
      "\bi: 1\n",
      "\n",
      "\bi: 2\n",
      "\n",
      "start\n"
     ]
    }
   ],
   "source": [
    "for i in lst:\n",
    "  if i % 3 == 0: \n",
    "    print(f'start')\n",
    "    break\n",
    "    print(f'3의 배수: {i}\\n')\n",
    "  else:\n",
    "    print(f'\bi: {i}\\n')"
   ]
  },
  {
   "cell_type": "code",
   "execution_count": 53,
   "metadata": {
    "colab": {
     "base_uri": "https://localhost:8080/"
    },
    "executionInfo": {
     "elapsed": 4,
     "status": "ok",
     "timestamp": 1678799149289,
     "user": {
      "displayName": "조경원",
      "userId": "10205523497785796707"
     },
     "user_tz": -540
    },
    "id": "gaRUSG2tMOP3",
    "outputId": "085acde5-05ca-47f7-d3e9-ab2ea28bc513"
   },
   "outputs": [
    {
     "name": "stdout",
     "output_type": "stream",
     "text": [
      "\bi: 1\n",
      "\n",
      "\bi: 2\n",
      "\n",
      "start\n",
      "\bi: 4\n",
      "\n",
      "\bi: 5\n",
      "\n",
      "start\n",
      "\bi: 7\n",
      "\n"
     ]
    }
   ],
   "source": [
    "for i in lst:\n",
    "  if i % 3 == 0: \n",
    "    print(f'start')\n",
    "    continue\n",
    "    print(f'3의 배수: {i}\\n')\n",
    "  else:\n",
    "    print(f'\bi: {i}\\n')"
   ]
  },
  {
   "cell_type": "markdown",
   "metadata": {
    "id": "E_UrZM1JJdUA"
   },
   "source": [
    "## for - else\n",
    "for문 실행이 완료되면 else가 실행된다."
   ]
  },
  {
   "cell_type": "code",
   "execution_count": 39,
   "metadata": {
    "colab": {
     "base_uri": "https://localhost:8080/"
    },
    "executionInfo": {
     "elapsed": 1041,
     "status": "ok",
     "timestamp": 1678798879900,
     "user": {
      "displayName": "조경원",
      "userId": "10205523497785796707"
     },
     "user_tz": -540
    },
    "id": "R7n8Bm4YJhTE",
    "outputId": "6c7312c6-ecfe-4cf0-a814-f4d0d5994a4c"
   },
   "outputs": [
    {
     "name": "stdout",
     "output_type": "stream",
     "text": [
      "홀수: 1\n",
      "짝수: 2\n",
      "홀수: 3\n",
      "짝수: 4\n",
      "홀수: 5\n",
      "짝수: 6\n",
      "홀수: 7\n",
      "for문 완료\n"
     ]
    }
   ],
   "source": [
    "for i in lst:\n",
    "  if i % 2 == 0: # 짝수만...\n",
    "    pass\n",
    "    print(f'짝수: {i}')\n",
    "  else:\n",
    "    print(f'홀수: {i}')\n",
    "else:\n",
    "  print(f'for문 완료')"
   ]
  },
  {
   "cell_type": "code",
   "execution_count": 40,
   "metadata": {
    "colab": {
     "base_uri": "https://localhost:8080/"
    },
    "executionInfo": {
     "elapsed": 5,
     "status": "ok",
     "timestamp": 1678798894699,
     "user": {
      "displayName": "조경원",
      "userId": "10205523497785796707"
     },
     "user_tz": -540
    },
    "id": "7kpk3gMwNhJ7",
    "outputId": "23edc715-c61d-47ca-8d6b-051b01197863"
   },
   "outputs": [
    {
     "name": "stdout",
     "output_type": "stream",
     "text": [
      "홀수: 1\n",
      "홀수: 3\n",
      "홀수: 5\n",
      "홀수: 7\n",
      "for문 완료\n"
     ]
    }
   ],
   "source": [
    "for i in lst:\n",
    "  if i % 2 == 0: \n",
    "    continue\n",
    "    print(f'짝수: {i}')\n",
    "  else:\n",
    "    print(f'홀수: {i}')\n",
    "else:\n",
    "  print(f'for문 완료')"
   ]
  },
  {
   "cell_type": "markdown",
   "metadata": {
    "id": "6C8qCDP4Kj2B"
   },
   "source": [
    "for문에서 중간에 멈추면(break) else는 실행되지 않는다."
   ]
  },
  {
   "cell_type": "code",
   "execution_count": 41,
   "metadata": {
    "colab": {
     "base_uri": "https://localhost:8080/"
    },
    "executionInfo": {
     "elapsed": 4,
     "status": "ok",
     "timestamp": 1678798918864,
     "user": {
      "displayName": "조경원",
      "userId": "10205523497785796707"
     },
     "user_tz": -540
    },
    "id": "lrxfe0jNJhWA",
    "outputId": "3d6d9396-5f4d-45ce-e359-8710b50dd97d"
   },
   "outputs": [
    {
     "name": "stdout",
     "output_type": "stream",
     "text": [
      "홀수: 1\n"
     ]
    }
   ],
   "source": [
    "for i in lst:\n",
    "  if i % 2 == 0: \n",
    "    break\n",
    "    print(f'짝수: {i}')\n",
    "  else:\n",
    "    print(f'홀수: {i}')\n",
    "else:\n",
    "  print(f'for문 완료')"
   ]
  },
  {
   "cell_type": "markdown",
   "metadata": {
    "id": "HfLM4rmSImCl"
   },
   "source": [
    "## while"
   ]
  },
  {
   "cell_type": "code",
   "execution_count": 60,
   "metadata": {
    "colab": {
     "base_uri": "https://localhost:8080/"
    },
    "executionInfo": {
     "elapsed": 334,
     "status": "ok",
     "timestamp": 1678799742030,
     "user": {
      "displayName": "조경원",
      "userId": "10205523497785796707"
     },
     "user_tz": -540
    },
    "id": "d1sRgdvHGUpc",
    "outputId": "4bf37d11-0529-4c25-e417-43199800db2a"
   },
   "outputs": [
    {
     "name": "stdout",
     "output_type": "stream",
     "text": [
      "i: 1\n",
      "i: 2\n",
      "i: 3\n",
      "i: 4\n",
      "i: 5\n",
      "i: 6\n",
      "i: 7\n",
      "i: 8\n",
      "i: 9\n",
      "i: 10\n",
      "55\n"
     ]
    }
   ],
   "source": [
    "total = 0\n",
    "index = 0\n",
    "\n",
    "while index < 10:\n",
    "  index += 1 # index = index + 1\n",
    "  print(f'i: {index}')\n",
    "  total += index\n",
    "\n",
    "print(total)"
   ]
  },
  {
   "cell_type": "code",
   "execution_count": 55,
   "metadata": {
    "colab": {
     "base_uri": "https://localhost:8080/"
    },
    "executionInfo": {
     "elapsed": 5,
     "status": "ok",
     "timestamp": 1678799439500,
     "user": {
      "displayName": "조경원",
      "userId": "10205523497785796707"
     },
     "user_tz": -540
    },
    "id": "i2dbJh8MO7F2",
    "outputId": "a2526a24-3955-46a5-c661-5de51af28344"
   },
   "outputs": [
    {
     "name": "stdout",
     "output_type": "stream",
     "text": [
      "a\n",
      "b\n",
      "c\n"
     ]
    }
   ],
   "source": [
    "lst = ['a', 'b', 'c']\n",
    "index = 0\n",
    "\n",
    "while index < len(lst):\n",
    "  print(lst[index])\n",
    "  index += 1"
   ]
  },
  {
   "cell_type": "code",
   "execution_count": 56,
   "metadata": {
    "colab": {
     "base_uri": "https://localhost:8080/"
    },
    "executionInfo": {
     "elapsed": 5,
     "status": "ok",
     "timestamp": 1678799516619,
     "user": {
      "displayName": "조경원",
      "userId": "10205523497785796707"
     },
     "user_tz": -540
    },
    "id": "Vp_StLSsO7In",
    "outputId": "9172aef2-55fa-414e-980f-bd50a45fdb6a"
   },
   "outputs": [
    {
     "name": "stdout",
     "output_type": "stream",
     "text": [
      "Hello\n",
      "ello\n",
      "llo\n",
      "lo\n",
      "o\n"
     ]
    }
   ],
   "source": [
    "string = 'Hello'\n",
    "index = 0\n",
    "\n",
    "while index < len(string):\n",
    "  print(string[index:])\n",
    "  index += 1"
   ]
  },
  {
   "cell_type": "markdown",
   "metadata": {
    "id": "i1TbSamSQ7Ui"
   },
   "source": [
    "## while - continue, break, pass "
   ]
  },
  {
   "cell_type": "code",
   "execution_count": 68,
   "metadata": {
    "colab": {
     "base_uri": "https://localhost:8080/"
    },
    "executionInfo": {
     "elapsed": 326,
     "status": "ok",
     "timestamp": 1678800295777,
     "user": {
      "displayName": "조경원",
      "userId": "10205523497785796707"
     },
     "user_tz": -540
    },
    "id": "GFyk7IYBO7MM",
    "outputId": "c95b8ab4-8fcb-4d29-aff0-f227432a686c"
   },
   "outputs": [
    {
     "name": "stdout",
     "output_type": "stream",
     "text": [
      "0\n",
      "1\n",
      "2\n",
      "3\n",
      "4\n",
      "5\n"
     ]
    }
   ],
   "source": [
    "number = 0\n",
    "\n",
    "while True:\n",
    "  print(number) \n",
    "  number += 1 \n",
    "  if number > 5:\n",
    "    break"
   ]
  },
  {
   "cell_type": "code",
   "execution_count": 69,
   "metadata": {
    "colab": {
     "base_uri": "https://localhost:8080/"
    },
    "executionInfo": {
     "elapsed": 7,
     "status": "ok",
     "timestamp": 1678800435355,
     "user": {
      "displayName": "조경원",
      "userId": "10205523497785796707"
     },
     "user_tz": -540
    },
    "id": "RfcSirQlSh_5",
    "outputId": "9683ab6d-81ac-4c35-a721-f4b7f28d61ef"
   },
   "outputs": [
    {
     "name": "stdout",
     "output_type": "stream",
     "text": [
      "짝수\n",
      "짝수\n",
      "짝수\n",
      "짝수\n",
      "짝수\n"
     ]
    }
   ],
   "source": [
    "number = 10\n",
    "\n",
    "while number: # 숫자 0은 False를 나타냄\n",
    "  number -= 1 # number = number - 1\n",
    "  if number % 2 == 0:\n",
    "    print('짝수')\n",
    "    continue\n",
    "    print(number)"
   ]
  },
  {
   "cell_type": "code",
   "execution_count": 70,
   "metadata": {
    "colab": {
     "base_uri": "https://localhost:8080/"
    },
    "executionInfo": {
     "elapsed": 1151,
     "status": "ok",
     "timestamp": 1678800452330,
     "user": {
      "displayName": "조경원",
      "userId": "10205523497785796707"
     },
     "user_tz": -540
    },
    "id": "2y9788tiSiDM",
    "outputId": "973ba2d8-38c3-4565-8a87-bfe6b712f923"
   },
   "outputs": [
    {
     "name": "stdout",
     "output_type": "stream",
     "text": [
      "짝수\n",
      "8\n",
      "짝수\n",
      "6\n",
      "짝수\n",
      "4\n",
      "짝수\n",
      "2\n",
      "짝수\n",
      "0\n"
     ]
    }
   ],
   "source": [
    "number = 10\n",
    "\n",
    "while number: # 숫자 0은 False를 나타냄\n",
    "  number -= 1 # number = number - 1\n",
    "  if number % 2 == 0:\n",
    "    print('짝수')\n",
    "    pass\n",
    "    print(number)"
   ]
  },
  {
   "cell_type": "markdown",
   "metadata": {
    "id": "jdkAAcnadm6v"
   },
   "source": [
    "## while - else "
   ]
  },
  {
   "cell_type": "code",
   "execution_count": 87,
   "metadata": {
    "colab": {
     "base_uri": "https://localhost:8080/"
    },
    "executionInfo": {
     "elapsed": 316,
     "status": "ok",
     "timestamp": 1678803125605,
     "user": {
      "displayName": "조경원",
      "userId": "10205523497785796707"
     },
     "user_tz": -540
    },
    "id": "_rLkVWjgdq6T",
    "outputId": "3fdda4ac-7dc1-40b2-ee0e-54b844aa69cc"
   },
   "outputs": [
    {
     "name": "stdout",
     "output_type": "stream",
     "text": [
      "짝수\n",
      "짝수\n",
      "짝수\n",
      "짝수\n",
      "짝수\n",
      "끝\n"
     ]
    }
   ],
   "source": [
    "number = 10\n",
    "\n",
    "while number: # 숫자 0은 False를 나타냄\n",
    "  number -= 1 # number = number - 1\n",
    "  if number % 2 == 0:\n",
    "    print('짝수')\n",
    "    continue\n",
    "    print(number)\n",
    "else:\n",
    "  print('끝')"
   ]
  },
  {
   "cell_type": "code",
   "execution_count": 88,
   "metadata": {
    "colab": {
     "base_uri": "https://localhost:8080/"
    },
    "executionInfo": {
     "elapsed": 1444,
     "status": "ok",
     "timestamp": 1678803167226,
     "user": {
      "displayName": "조경원",
      "userId": "10205523497785796707"
     },
     "user_tz": -540
    },
    "id": "G7SmzDHgdv-q",
    "outputId": "474f30ad-40b8-4053-d12d-709507a8487e"
   },
   "outputs": [
    {
     "name": "stdout",
     "output_type": "stream",
     "text": [
      "0\n",
      "1\n",
      "2\n",
      "3\n",
      "4\n",
      "5\n"
     ]
    }
   ],
   "source": [
    "number = 0\n",
    "\n",
    "while True:\n",
    "  print(number) \n",
    "  number += 1 \n",
    "  if number > 5:\n",
    "    break\n",
    "else:\n",
    "  print('끝')"
   ]
  },
  {
   "cell_type": "code",
   "execution_count": null,
   "metadata": {
    "id": "TwTMM4gmnhPv"
   },
   "outputs": [],
   "source": []
  }
 ],
 "metadata": {
  "colab": {
   "authorship_tag": "ABX9TyMR/MZf9T82+U5+8E2M0032",
   "provenance": [],
   "toc_visible": true
  },
  "kernelspec": {
   "display_name": "Python 3",
   "name": "python3"
  },
  "language_info": {
   "name": "python"
  }
 },
 "nbformat": 4,
 "nbformat_minor": 0
}
