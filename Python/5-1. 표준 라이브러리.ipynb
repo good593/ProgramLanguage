{
 "cells": [
  {
   "cell_type": "markdown",
   "metadata": {
    "id": "fm4Syg42yh14"
   },
   "source": [
    "# 표준 라이브러리(함수)\n",
    "- 파이썬 표준 라이브러리는 파이썬을 설치할 때 자동으로 설치된다.  \n",
    "\n",
    "아래는 표준 라이브러리에서 주요 함수들이다."
   ]
  },
  {
   "cell_type": "markdown",
   "metadata": {
    "id": "BGsMceF6nWjG"
   },
   "source": [
    "## collections"
   ]
  },
  {
   "cell_type": "markdown",
   "metadata": {
    "id": "gDil0XnDzG-n"
   },
   "source": [
    "### Counter\n",
    "- 시퀀스 자료형의 데이터의 값의 개수를 딕셔너리 형태로 반환"
   ]
  },
  {
   "cell_type": "code",
   "execution_count": null,
   "metadata": {
    "id": "J14fLZKbnaY7"
   },
   "outputs": [],
   "source": [
    "from collections import Counter"
   ]
  },
  {
   "cell_type": "code",
   "execution_count": null,
   "metadata": {
    "id": "bFYtXxH4zi4y"
   },
   "outputs": [],
   "source": [
    "lst = ['aa', 'aa', 'bb', 'aa', 'bb', 'ee', 'tt']"
   ]
  },
  {
   "cell_type": "code",
   "execution_count": null,
   "metadata": {
    "colab": {
     "base_uri": "https://localhost:8080/"
    },
    "executionInfo": {
     "elapsed": 3,
     "status": "ok",
     "timestamp": 1678977285130,
     "user": {
      "displayName": "조경원",
      "userId": "10205523497785796707"
     },
     "user_tz": -540
    },
    "id": "DWAqxx7Qzi7c",
    "outputId": "3c2526cb-9b7c-47c0-a528-b8cde05f8113"
   },
   "outputs": [
    {
     "data": {
      "text/plain": [
       "Counter({'aa': 3, 'bb': 2, 'ee': 1, 'tt': 1})"
      ]
     },
     "execution_count": 70,
     "metadata": {},
     "output_type": "execute_result"
    }
   ],
   "source": [
    "counter = Counter(lst)\n",
    "counter"
   ]
  },
  {
   "cell_type": "code",
   "execution_count": null,
   "metadata": {
    "colab": {
     "base_uri": "https://localhost:8080/"
    },
    "executionInfo": {
     "elapsed": 6,
     "status": "ok",
     "timestamp": 1678977304278,
     "user": {
      "displayName": "조경원",
      "userId": "10205523497785796707"
     },
     "user_tz": -540
    },
    "id": "IfgW_OlR2HVK",
    "outputId": "53036eb7-c3a6-4d3f-c24c-07808ca9369d"
   },
   "outputs": [
    {
     "data": {
      "text/plain": [
       "{'aa': 3, 'bb': 2, 'ee': 1, 'tt': 1}"
      ]
     },
     "execution_count": 72,
     "metadata": {},
     "output_type": "execute_result"
    }
   ],
   "source": [
    "dict(counter)"
   ]
  },
  {
   "cell_type": "code",
   "execution_count": null,
   "metadata": {
    "colab": {
     "base_uri": "https://localhost:8080/"
    },
    "executionInfo": {
     "elapsed": 6,
     "status": "ok",
     "timestamp": 1678977293262,
     "user": {
      "displayName": "조경원",
      "userId": "10205523497785796707"
     },
     "user_tz": -540
    },
    "id": "it9u3E_m1_Yl",
    "outputId": "8ff49d11-9d32-4440-da79-fe9aecad0e67"
   },
   "outputs": [
    {
     "data": {
      "text/plain": [
       "['aa', 'aa', 'aa', 'bb', 'bb', 'ee', 'tt']"
      ]
     },
     "execution_count": 71,
     "metadata": {},
     "output_type": "execute_result"
    }
   ],
   "source": [
    "list(counter.elements())"
   ]
  },
  {
   "cell_type": "markdown",
   "metadata": {
    "id": "9lsF3-od0wLW"
   },
   "source": [
    "숫자가 가장 큰 인자를 찾는 메서드  \n",
    "`most_common(k)`: k 숫자만 큰 인자를 리턴해준다."
   ]
  },
  {
   "cell_type": "code",
   "execution_count": null,
   "metadata": {
    "colab": {
     "base_uri": "https://localhost:8080/"
    },
    "executionInfo": {
     "elapsed": 3,
     "status": "ok",
     "timestamp": 1678977080775,
     "user": {
      "displayName": "조경원",
      "userId": "10205523497785796707"
     },
     "user_tz": -540
    },
    "id": "rS6lHaWX0kIe",
    "outputId": "7fc75f93-f10e-4fce-de14-348ccc026992"
   },
   "outputs": [
    {
     "data": {
      "text/plain": [
       "[('aa', 3)]"
      ]
     },
     "execution_count": 63,
     "metadata": {},
     "output_type": "execute_result"
    }
   ],
   "source": [
    "counter.most_common(1)"
   ]
  },
  {
   "cell_type": "code",
   "execution_count": null,
   "metadata": {
    "colab": {
     "base_uri": "https://localhost:8080/"
    },
    "executionInfo": {
     "elapsed": 5,
     "status": "ok",
     "timestamp": 1678977091062,
     "user": {
      "displayName": "조경원",
      "userId": "10205523497785796707"
     },
     "user_tz": -540
    },
    "id": "rKvruHDb1Sd4",
    "outputId": "dc5ebb26-6e9c-4cd1-d9bb-2901ea95c863"
   },
   "outputs": [
    {
     "data": {
      "text/plain": [
       "[('aa', 3), ('bb', 2)]"
      ]
     },
     "execution_count": 64,
     "metadata": {},
     "output_type": "execute_result"
    }
   ],
   "source": [
    "counter.most_common(2)"
   ]
  },
  {
   "cell_type": "markdown",
   "metadata": {
    "id": "t0KQucxZ1dEu"
   },
   "source": [
    "산술 연산자 활용"
   ]
  },
  {
   "cell_type": "code",
   "execution_count": null,
   "metadata": {
    "colab": {
     "base_uri": "https://localhost:8080/"
    },
    "executionInfo": {
     "elapsed": 1196,
     "status": "ok",
     "timestamp": 1678977181855,
     "user": {
      "displayName": "조경원",
      "userId": "10205523497785796707"
     },
     "user_tz": -540
    },
    "id": "kqF3T4Gfzi-t",
    "outputId": "5530e6b6-b919-4407-d822-ba3919725162"
   },
   "outputs": [
    {
     "name": "stdout",
     "output_type": "stream",
     "text": [
      "counter1: Counter({'A': 2, 'B': 1})\n",
      "counter2: Counter({'B': 2, 'A': 1})\n"
     ]
    }
   ],
   "source": [
    "counter1 = Counter([\"A\", \"A\", \"B\"])\n",
    "counter2 = Counter([\"A\", \"B\", \"B\"])\n",
    "\n",
    "print(f'counter1: {counter1}')\n",
    "print(f'counter2: {counter2}')"
   ]
  },
  {
   "cell_type": "code",
   "execution_count": null,
   "metadata": {
    "colab": {
     "base_uri": "https://localhost:8080/"
    },
    "executionInfo": {
     "elapsed": 412,
     "status": "ok",
     "timestamp": 1678977197305,
     "user": {
      "displayName": "조경원",
      "userId": "10205523497785796707"
     },
     "user_tz": -540
    },
    "id": "Gw_LSUTP1ggK",
    "outputId": "1e7b9510-1766-45ac-8e89-e624d7f1c53f"
   },
   "outputs": [
    {
     "data": {
      "text/plain": [
       "Counter({'A': 3, 'B': 3})"
      ]
     },
     "execution_count": 66,
     "metadata": {},
     "output_type": "execute_result"
    }
   ],
   "source": [
    "counter1 + counter2"
   ]
  },
  {
   "cell_type": "code",
   "execution_count": null,
   "metadata": {
    "colab": {
     "base_uri": "https://localhost:8080/"
    },
    "executionInfo": {
     "elapsed": 5,
     "status": "ok",
     "timestamp": 1678977205086,
     "user": {
      "displayName": "조경원",
      "userId": "10205523497785796707"
     },
     "user_tz": -540
    },
    "id": "4virlPxr1giv",
    "outputId": "43dcc947-ff7d-4ec8-830b-3f95c6633022"
   },
   "outputs": [
    {
     "data": {
      "text/plain": [
       "Counter({'A': 1})"
      ]
     },
     "execution_count": 67,
     "metadata": {},
     "output_type": "execute_result"
    }
   ],
   "source": [
    "counter1 - counter2"
   ]
  },
  {
   "cell_type": "markdown",
   "metadata": {
    "id": "8rt2GVu4zU1g"
   },
   "source": [
    "### OrderedDict\n",
    "- 순서를 가진 딕셔너리 객체\n",
    "- key, value 생성한 순서대로 저장된다."
   ]
  },
  {
   "cell_type": "code",
   "execution_count": null,
   "metadata": {
    "id": "8VMxDPlEzUJh"
   },
   "outputs": [],
   "source": [
    "from collections import OrderedDict"
   ]
  },
  {
   "cell_type": "code",
   "execution_count": null,
   "metadata": {
    "colab": {
     "base_uri": "https://localhost:8080/"
    },
    "executionInfo": {
     "elapsed": 5,
     "status": "ok",
     "timestamp": 1678977884325,
     "user": {
      "displayName": "조경원",
      "userId": "10205523497785796707"
     },
     "user_tz": -540
    },
    "id": "iBJOpbxqzjsO",
    "outputId": "cf3a26c7-f2d8-4fd0-f2ac-efe48482cd3a"
   },
   "outputs": [
    {
     "data": {
      "text/plain": [
       "OrderedDict([('a', 11), ('b', 22), ('c', 33)])"
      ]
     },
     "execution_count": 74,
     "metadata": {},
     "output_type": "execute_result"
    }
   ],
   "source": [
    "lst = [('a', 11), ('b', 22), ('c', 33)]\n",
    "\n",
    "ordere_dict = OrderedDict(lst)\n",
    "ordere_dict # lst의 데이터 순서로 저장이 되었다."
   ]
  },
  {
   "cell_type": "markdown",
   "metadata": {
    "id": "XIUu2lwB4kHc"
   },
   "source": [
    "마지막 순서 pop(추출) / last=False 시 첫번째 순서 pop(추출)"
   ]
  },
  {
   "cell_type": "code",
   "execution_count": null,
   "metadata": {
    "colab": {
     "base_uri": "https://localhost:8080/"
    },
    "executionInfo": {
     "elapsed": 544,
     "status": "ok",
     "timestamp": 1678978039318,
     "user": {
      "displayName": "조경원",
      "userId": "10205523497785796707"
     },
     "user_tz": -540
    },
    "id": "_Ekx-IOazjvA",
    "outputId": "ee18d0eb-eb6c-4645-a48b-2473c8f4546c"
   },
   "outputs": [
    {
     "data": {
      "text/plain": [
       "('a', 11)"
      ]
     },
     "execution_count": 76,
     "metadata": {},
     "output_type": "execute_result"
    }
   ],
   "source": [
    "ordere_dict.popitem(last=False)"
   ]
  },
  {
   "cell_type": "code",
   "execution_count": null,
   "metadata": {
    "colab": {
     "base_uri": "https://localhost:8080/"
    },
    "executionInfo": {
     "elapsed": 4,
     "status": "ok",
     "timestamp": 1678978048342,
     "user": {
      "displayName": "조경원",
      "userId": "10205523497785796707"
     },
     "user_tz": -540
    },
    "id": "DOGXOCmUzjyZ",
    "outputId": "bdde8296-c6c4-4d88-ea36-384caf8becbf"
   },
   "outputs": [
    {
     "data": {
      "text/plain": [
       "OrderedDict([('b', 22), ('c', 33)])"
      ]
     },
     "execution_count": 77,
     "metadata": {},
     "output_type": "execute_result"
    }
   ],
   "source": [
    "ordere_dict"
   ]
  },
  {
   "cell_type": "markdown",
   "metadata": {
    "id": "F3pWFgj85AXL"
   },
   "source": [
    "마지막으로 key:value 옮기기 / last=False 시 첫번째로"
   ]
  },
  {
   "cell_type": "code",
   "execution_count": null,
   "metadata": {
    "id": "4BVBB6UR48LY"
   },
   "outputs": [],
   "source": [
    "ordere_dict.move_to_end(key='b', last=True)"
   ]
  },
  {
   "cell_type": "code",
   "execution_count": null,
   "metadata": {
    "colab": {
     "base_uri": "https://localhost:8080/"
    },
    "executionInfo": {
     "elapsed": 6,
     "status": "ok",
     "timestamp": 1678978130918,
     "user": {
      "displayName": "조경원",
      "userId": "10205523497785796707"
     },
     "user_tz": -540
    },
    "id": "8N9Jfw3w48OB",
    "outputId": "3e1694d8-cb0b-4523-f38d-f8548c2046e8"
   },
   "outputs": [
    {
     "data": {
      "text/plain": [
       "OrderedDict([('c', 33), ('b', 22)])"
      ]
     },
     "execution_count": 79,
     "metadata": {},
     "output_type": "execute_result"
    }
   ],
   "source": [
    "ordere_dict"
   ]
  },
  {
   "cell_type": "markdown",
   "metadata": {
    "id": "ynpnvopezWtB"
   },
   "source": [
    "### defaultdict\n",
    "- 딕셔너리의 단점으로 없는 key 접근시 에러가 발생하는 단점을 보완\n",
    "- 딕셔너리에 없는 key에 접근시 지정한 기본값을 이용하여 key,value 를 생성"
   ]
  },
  {
   "cell_type": "code",
   "execution_count": null,
   "metadata": {
    "id": "kVSUGRh_zUMM"
   },
   "outputs": [],
   "source": [
    "from collections import defaultdict"
   ]
  },
  {
   "cell_type": "code",
   "execution_count": null,
   "metadata": {
    "id": "C-Vq3cCz8hrk"
   },
   "outputs": [],
   "source": [
    "word = \"Hello world\""
   ]
  },
  {
   "cell_type": "code",
   "execution_count": null,
   "metadata": {
    "id": "TjW2Jq0795ln"
   },
   "outputs": [],
   "source": [
    "tup_list = [\n",
    "    (\"경제\",\"10시 경제기사\"),\n",
    "    (\"정치\",\"10시 정치기사\"),\n",
    "    (\"사회\",\"10시 사회기사\"),\n",
    "    (\"경제\",\"14시 경제기사\"),\n",
    "    (\"정치\",\"15시 정치기사\"),\n",
    "]"
   ]
  },
  {
   "cell_type": "markdown",
   "metadata": {
    "id": "foM9OYB56wJs"
   },
   "source": [
    "일반적인 사전 기본값 처리"
   ]
  },
  {
   "cell_type": "code",
   "execution_count": null,
   "metadata": {
    "colab": {
     "base_uri": "https://localhost:8080/"
    },
    "executionInfo": {
     "elapsed": 3,
     "status": "ok",
     "timestamp": 1678979001623,
     "user": {
      "displayName": "조경원",
      "userId": "10205523497785796707"
     },
     "user_tz": -540
    },
    "id": "a3ODZXEOznPg",
    "outputId": "8341aa9c-ae09-4966-f3d6-ac82fc07f452"
   },
   "outputs": [
    {
     "data": {
      "text/plain": [
       "{'H': 1, 'e': 1, 'l': 3, 'o': 2, ' ': 1, 'w': 1, 'r': 1, 'd': 1}"
      ]
     },
     "execution_count": 82,
     "metadata": {},
     "output_type": "execute_result"
    }
   ],
   "source": [
    "def countLetters(word):\n",
    "    counter = {}\n",
    "    for letter in word:\n",
    "        if letter not in counter:\n",
    "            counter[letter] = 0\n",
    "        counter[letter] += 1\n",
    "    return counter\n",
    "\n",
    "countLetters(word)"
   ]
  },
  {
   "cell_type": "code",
   "execution_count": null,
   "metadata": {
    "colab": {
     "base_uri": "https://localhost:8080/"
    },
    "executionInfo": {
     "elapsed": 4,
     "status": "ok",
     "timestamp": 1678979036540,
     "user": {
      "displayName": "조경원",
      "userId": "10205523497785796707"
     },
     "user_tz": -540
    },
    "id": "WRsvAz3iznSi",
    "outputId": "c8562096-b19f-4f85-8b85-295f038e0230"
   },
   "outputs": [
    {
     "data": {
      "text/plain": [
       "{'H': 1, 'e': 1, 'l': 3, 'o': 2, ' ': 1, 'w': 1, 'r': 1, 'd': 1}"
      ]
     },
     "execution_count": 83,
     "metadata": {},
     "output_type": "execute_result"
    }
   ],
   "source": [
    "def countLetters(word):\n",
    "    counter = {}\n",
    "    for letter in word:\n",
    "        counter.setdefault(letter, 0)\n",
    "        counter[letter] += 1\n",
    "    return counter\n",
    "\n",
    "countLetters(word)    "
   ]
  },
  {
   "cell_type": "code",
   "execution_count": null,
   "metadata": {
    "colab": {
     "base_uri": "https://localhost:8080/"
    },
    "executionInfo": {
     "elapsed": 5,
     "status": "ok",
     "timestamp": 1678979359315,
     "user": {
      "displayName": "조경원",
      "userId": "10205523497785796707"
     },
     "user_tz": -540
    },
    "id": "_0a4ANxA97Pf",
    "outputId": "22dff80b-e4c5-427d-d5b7-c01821b5c893"
   },
   "outputs": [
    {
     "data": {
      "text/plain": [
       "{'경제': ['10시 경제기사', '14시 경제기사'],\n",
       " '정치': ['10시 정치기사', '15시 정치기사'],\n",
       " '사회': ['10시 사회기사']}"
      ]
     },
     "execution_count": 88,
     "metadata": {},
     "output_type": "execute_result"
    }
   ],
   "source": [
    "news_dict = {}\n",
    "for k,v in tup_list:\n",
    "    if news_dict.get(k) is None:\n",
    "        news_dict[k] = []\n",
    "    news_dict[k].append(v)\n",
    "news_dict"
   ]
  },
  {
   "cell_type": "markdown",
   "metadata": {
    "id": "0-1BvL6n8yhF"
   },
   "source": [
    "defaultdict 사용"
   ]
  },
  {
   "cell_type": "code",
   "execution_count": null,
   "metadata": {
    "colab": {
     "base_uri": "https://localhost:8080/"
    },
    "executionInfo": {
     "elapsed": 3,
     "status": "ok",
     "timestamp": 1678979098982,
     "user": {
      "displayName": "조경원",
      "userId": "10205523497785796707"
     },
     "user_tz": -540
    },
    "id": "Lx5mAGntzUPu",
    "outputId": "6aa45009-502c-4f5e-af79-ad9a52dabe8b"
   },
   "outputs": [
    {
     "data": {
      "text/plain": [
       "defaultdict(int,\n",
       "            {'H': 1, 'e': 1, 'l': 3, 'o': 2, ' ': 1, 'w': 1, 'r': 1, 'd': 1})"
      ]
     },
     "execution_count": 84,
     "metadata": {},
     "output_type": "execute_result"
    }
   ],
   "source": [
    "def countLetters(word):\n",
    "    counter = defaultdict(int)\n",
    "    for letter in word:\n",
    "        counter[letter] += 1\n",
    "    return counter\n",
    "\n",
    "countLetters(word)        "
   ]
  },
  {
   "cell_type": "code",
   "execution_count": null,
   "metadata": {
    "colab": {
     "base_uri": "https://localhost:8080/"
    },
    "executionInfo": {
     "elapsed": 5,
     "status": "ok",
     "timestamp": 1678979131499,
     "user": {
      "displayName": "조경원",
      "userId": "10205523497785796707"
     },
     "user_tz": -540
    },
    "id": "nJgvmmxL8_HZ",
    "outputId": "4914212b-0181-4582-fe71-931c4d89b884"
   },
   "outputs": [
    {
     "data": {
      "text/plain": [
       "defaultdict(<function __main__.countLetters.<locals>.<lambda>()>,\n",
       "            {'H': 1, 'e': 1, 'l': 3, 'o': 2, ' ': 1, 'w': 1, 'r': 1, 'd': 1})"
      ]
     },
     "execution_count": 85,
     "metadata": {},
     "output_type": "execute_result"
    }
   ],
   "source": [
    "def countLetters(word):\n",
    "    counter = defaultdict(lambda: 0)\n",
    "    for letter in word:\n",
    "        counter[letter] += 1\n",
    "    return counter\n",
    "\n",
    "countLetters(word)     "
   ]
  },
  {
   "cell_type": "code",
   "execution_count": null,
   "metadata": {
    "colab": {
     "base_uri": "https://localhost:8080/"
    },
    "executionInfo": {
     "elapsed": 5,
     "status": "ok",
     "timestamp": 1678979372247,
     "user": {
      "displayName": "조경원",
      "userId": "10205523497785796707"
     },
     "user_tz": -540
    },
    "id": "t9HazrU79qxR",
    "outputId": "ae51f1d1-b805-4245-f868-2f95352adb21"
   },
   "outputs": [
    {
     "data": {
      "text/plain": [
       "defaultdict(list,\n",
       "            {'경제': ['10시 경제기사', '14시 경제기사'],\n",
       "             '정치': ['10시 정치기사', '15시 정치기사'],\n",
       "             '사회': ['10시 사회기사']})"
      ]
     },
     "execution_count": 89,
     "metadata": {},
     "output_type": "execute_result"
    }
   ],
   "source": [
    "news_dict = defaultdict(list)\n",
    "for k,v in tup_list:\n",
    "    news_dict[k].append(v)\n",
    "news_dict"
   ]
  },
  {
   "cell_type": "markdown",
   "metadata": {
    "id": "i6cMT4ZMnfYy"
   },
   "source": [
    "## math"
   ]
  },
  {
   "cell_type": "code",
   "execution_count": null,
   "metadata": {
    "id": "5uSiZiTaniNC"
   },
   "outputs": [],
   "source": [
    "import math"
   ]
  },
  {
   "cell_type": "code",
   "execution_count": null,
   "metadata": {
    "colab": {
     "base_uri": "https://localhost:8080/"
    },
    "executionInfo": {
     "elapsed": 2,
     "status": "ok",
     "timestamp": 1678979475045,
     "user": {
      "displayName": "조경원",
      "userId": "10205523497785796707"
     },
     "user_tz": -540
    },
    "id": "Mx3hFBpT-Rqm",
    "outputId": "060c5691-b8d6-46ee-f40f-25ac851e446a"
   },
   "outputs": [
    {
     "data": {
      "text/plain": [
       "3.141592653589793"
      ]
     },
     "execution_count": 91,
     "metadata": {},
     "output_type": "execute_result"
    }
   ],
   "source": [
    "math.pi"
   ]
  },
  {
   "cell_type": "code",
   "execution_count": null,
   "metadata": {
    "colab": {
     "base_uri": "https://localhost:8080/"
    },
    "executionInfo": {
     "elapsed": 4,
     "status": "ok",
     "timestamp": 1678979480522,
     "user": {
      "displayName": "조경원",
      "userId": "10205523497785796707"
     },
     "user_tz": -540
    },
    "id": "uTmNSX69-RtN",
    "outputId": "14a21dc5-a436-4154-a135-3b29c15f0c53"
   },
   "outputs": [
    {
     "data": {
      "text/plain": [
       "2.718281828459045"
      ]
     },
     "execution_count": 92,
     "metadata": {},
     "output_type": "execute_result"
    }
   ],
   "source": [
    "math.e"
   ]
  },
  {
   "cell_type": "code",
   "execution_count": null,
   "metadata": {
    "colab": {
     "base_uri": "https://localhost:8080/"
    },
    "executionInfo": {
     "elapsed": 340,
     "status": "ok",
     "timestamp": 1678979493098,
     "user": {
      "displayName": "조경원",
      "userId": "10205523497785796707"
     },
     "user_tz": -540
    },
    "id": "y_TfAoUX-Rwd",
    "outputId": "579dca08-b322-457a-a653-d18be0ab491c"
   },
   "outputs": [
    {
     "data": {
      "text/plain": [
       "2.302585092994046"
      ]
     },
     "execution_count": 93,
     "metadata": {},
     "output_type": "execute_result"
    }
   ],
   "source": [
    "math.log(10)"
   ]
  },
  {
   "cell_type": "code",
   "execution_count": null,
   "metadata": {
    "colab": {
     "base_uri": "https://localhost:8080/"
    },
    "executionInfo": {
     "elapsed": 4,
     "status": "ok",
     "timestamp": 1678979504799,
     "user": {
      "displayName": "조경원",
      "userId": "10205523497785796707"
     },
     "user_tz": -540
    },
    "id": "hnjDJyQp-f7w",
    "outputId": "3ee77288-47a3-4756-806c-06f31a29bbb3"
   },
   "outputs": [
    {
     "data": {
      "text/plain": [
       "22026.465794806718"
      ]
     },
     "execution_count": 94,
     "metadata": {},
     "output_type": "execute_result"
    }
   ],
   "source": [
    "math.exp(10) # e**10"
   ]
  },
  {
   "cell_type": "code",
   "execution_count": null,
   "metadata": {
    "colab": {
     "base_uri": "https://localhost:8080/"
    },
    "executionInfo": {
     "elapsed": 5,
     "status": "ok",
     "timestamp": 1678979538795,
     "user": {
      "displayName": "조경원",
      "userId": "10205523497785796707"
     },
     "user_tz": -540
    },
    "id": "dfBtmf1M-oAA",
    "outputId": "2dec9b20-3b1d-41da-822d-b4de98bf6682"
   },
   "outputs": [
    {
     "data": {
      "text/plain": [
       "16.0"
      ]
     },
     "execution_count": 95,
     "metadata": {},
     "output_type": "execute_result"
    }
   ],
   "source": [
    "math.pow(2,4) # 2**4"
   ]
  },
  {
   "cell_type": "code",
   "execution_count": null,
   "metadata": {
    "colab": {
     "base_uri": "https://localhost:8080/"
    },
    "executionInfo": {
     "elapsed": 2,
     "status": "ok",
     "timestamp": 1678979552897,
     "user": {
      "displayName": "조경원",
      "userId": "10205523497785796707"
     },
     "user_tz": -540
    },
    "id": "kwiaSXXl-r11",
    "outputId": "55f373a2-5f29-44d7-80cb-fd32be9c81a4"
   },
   "outputs": [
    {
     "data": {
      "text/plain": [
       "10.0"
      ]
     },
     "execution_count": 96,
     "metadata": {},
     "output_type": "execute_result"
    }
   ],
   "source": [
    "math.sqrt(100)"
   ]
  },
  {
   "cell_type": "code",
   "execution_count": null,
   "metadata": {
    "colab": {
     "base_uri": "https://localhost:8080/"
    },
    "executionInfo": {
     "elapsed": 5,
     "status": "ok",
     "timestamp": 1678979570660,
     "user": {
      "displayName": "조경원",
      "userId": "10205523497785796707"
     },
     "user_tz": -540
    },
    "id": "omAA6Uj9-vWG",
    "outputId": "7504ea25-2822-4469-8180-fcc3d5338b82"
   },
   "outputs": [
    {
     "data": {
      "text/plain": [
       "5"
      ]
     },
     "execution_count": 97,
     "metadata": {},
     "output_type": "execute_result"
    }
   ],
   "source": [
    "math.ceil(4.55)"
   ]
  },
  {
   "cell_type": "code",
   "execution_count": null,
   "metadata": {
    "colab": {
     "base_uri": "https://localhost:8080/"
    },
    "executionInfo": {
     "elapsed": 5,
     "status": "ok",
     "timestamp": 1678979582932,
     "user": {
      "displayName": "조경원",
      "userId": "10205523497785796707"
     },
     "user_tz": -540
    },
    "id": "B3POIqi_-ym-",
    "outputId": "14727014-3739-484d-e37b-c10836d32b89"
   },
   "outputs": [
    {
     "data": {
      "text/plain": [
       "4"
      ]
     },
     "execution_count": 98,
     "metadata": {},
     "output_type": "execute_result"
    }
   ],
   "source": [
    "math.floor(4.55)"
   ]
  },
  {
   "cell_type": "markdown",
   "metadata": {
    "id": "Hq2YFaObzWj3"
   },
   "source": [
    "## random\n",
    "random은 난수를 발생시키는 모듈이다. "
   ]
  },
  {
   "cell_type": "code",
   "execution_count": null,
   "metadata": {
    "colab": {
     "base_uri": "https://localhost:8080/"
    },
    "executionInfo": {
     "elapsed": 5,
     "status": "ok",
     "timestamp": 1678943041963,
     "user": {
      "displayName": "조경원",
      "userId": "10205523497785796707"
     },
     "user_tz": -540
    },
    "id": "CrUlDBN_zS_4",
    "outputId": "d340f490-44b5-4da1-8925-e2a5d87d2d1c"
   },
   "outputs": [
    {
     "data": {
      "text/plain": [
       "0.2524277605025933"
      ]
     },
     "execution_count": 9,
     "metadata": {},
     "output_type": "execute_result"
    }
   ],
   "source": [
    "import random\n",
    "\n",
    "random.random() # 0.0 ~ 1.0 사이의 실수값 랜덤 추출"
   ]
  },
  {
   "cell_type": "code",
   "execution_count": null,
   "metadata": {
    "colab": {
     "base_uri": "https://localhost:8080/"
    },
    "executionInfo": {
     "elapsed": 4,
     "status": "ok",
     "timestamp": 1678943051619,
     "user": {
      "displayName": "조경원",
      "userId": "10205523497785796707"
     },
     "user_tz": -540
    },
    "id": "w_Ev6qhjzbYF",
    "outputId": "418c84a0-ed1f-4e01-b80d-cdac3b82a8f6"
   },
   "outputs": [
    {
     "data": {
      "text/plain": [
       "5"
      ]
     },
     "execution_count": 10,
     "metadata": {},
     "output_type": "execute_result"
    }
   ],
   "source": [
    "random.randint(1,10) # 1 ~ 10 사이의 정수 랜덤 추출"
   ]
  },
  {
   "cell_type": "code",
   "execution_count": null,
   "metadata": {
    "colab": {
     "base_uri": "https://localhost:8080/"
    },
    "executionInfo": {
     "elapsed": 425,
     "status": "ok",
     "timestamp": 1678943060128,
     "user": {
      "displayName": "조경원",
      "userId": "10205523497785796707"
     },
     "user_tz": -540
    },
    "id": "GHsQcxoDzdo3",
    "outputId": "9ffe043f-fcd1-4f80-b065-96ae8ef384e0"
   },
   "outputs": [
    {
     "data": {
      "text/plain": [
       "8"
      ]
     },
     "execution_count": 11,
     "metadata": {},
     "output_type": "execute_result"
    }
   ],
   "source": [
    "random.choice([2, 4, 6, 8]) # 입력 받은 리스트 중에서 한개만 랜덤 추출 "
   ]
  },
  {
   "cell_type": "code",
   "execution_count": null,
   "metadata": {
    "colab": {
     "base_uri": "https://localhost:8080/"
    },
    "executionInfo": {
     "elapsed": 5,
     "status": "ok",
     "timestamp": 1678943068452,
     "user": {
      "displayName": "조경원",
      "userId": "10205523497785796707"
     },
     "user_tz": -540
    },
    "id": "EJqxZuwOzftb",
    "outputId": "191e459d-ccd1-498d-b181-a8e081dd37b7"
   },
   "outputs": [
    {
     "data": {
      "text/plain": [
       "[3, 4]"
      ]
     },
     "execution_count": 12,
     "metadata": {},
     "output_type": "execute_result"
    }
   ],
   "source": [
    "random.sample([1, 2, 3, 4, 5], 2) # 첫번째 입력 리스트에서 두번째 입력 갯수만큼 랜덤 추출 "
   ]
  },
  {
   "cell_type": "markdown",
   "metadata": {
    "id": "FWCoM5rXzkNU"
   },
   "source": [
    "## json    \n",
    "json은 JSON 데이터를 쉽게 처리하고자 사용하는 모듈이다."
   ]
  },
  {
   "cell_type": "code",
   "execution_count": null,
   "metadata": {
    "colab": {
     "base_uri": "https://localhost:8080/"
    },
    "executionInfo": {
     "elapsed": 5,
     "status": "ok",
     "timestamp": 1678943106912,
     "user": {
      "displayName": "조경원",
      "userId": "10205523497785796707"
     },
     "user_tz": -540
    },
    "id": "Px4IebCYzh6Y",
    "outputId": "d53470cb-14fd-4fd9-d526-590f1bb103ea"
   },
   "outputs": [
    {
     "name": "stdout",
     "output_type": "stream",
     "text": [
      "<class 'dict'> / {'name': '똑똑이', 'birth': '1212', 'age': 33}\n"
     ]
    }
   ],
   "source": [
    "dic = {\n",
    "    'name':'똑똑이',\n",
    "    'birth':'1212',\n",
    "    'age': 33\n",
    "}\n",
    "\n",
    "print(f'{type(dic)} / {dic}')"
   ]
  },
  {
   "cell_type": "code",
   "execution_count": null,
   "metadata": {
    "colab": {
     "base_uri": "https://localhost:8080/",
     "height": 35
    },
    "executionInfo": {
     "elapsed": 264,
     "status": "ok",
     "timestamp": 1678943121436,
     "user": {
      "displayName": "조경원",
      "userId": "10205523497785796707"
     },
     "user_tz": -540
    },
    "id": "v61Pl1_zzrLX",
    "outputId": "9a7d684d-2b2a-417c-ef2d-c196ff4752d6"
   },
   "outputs": [
    {
     "data": {
      "application/vnd.google.colaboratory.intrinsic+json": {
       "type": "string"
      },
      "text/plain": [
       "'{\"name\": \"\\\\ub611\\\\ub611\\\\uc774\", \"birth\": \"1212\", \"age\": 33}'"
      ]
     },
     "execution_count": 14,
     "metadata": {},
     "output_type": "execute_result"
    }
   ],
   "source": [
    "import json\n",
    "\n",
    "json_str = json.dumps(dic) # dic to json 문자열\n",
    "json_str"
   ]
  },
  {
   "cell_type": "code",
   "execution_count": null,
   "metadata": {
    "colab": {
     "base_uri": "https://localhost:8080/"
    },
    "executionInfo": {
     "elapsed": 5,
     "status": "ok",
     "timestamp": 1678943130630,
     "user": {
      "displayName": "조경원",
      "userId": "10205523497785796707"
     },
     "user_tz": -540
    },
    "id": "8U71NZqtzusR",
    "outputId": "91a992bb-e935-497a-ff84-98a1c8dc7248"
   },
   "outputs": [
    {
     "data": {
      "text/plain": [
       "{'name': '똑똑이', 'birth': '1212', 'age': 33}"
      ]
     },
     "execution_count": 15,
     "metadata": {},
     "output_type": "execute_result"
    }
   ],
   "source": [
    "json.loads(json_str) # json 문자열 to dic "
   ]
  },
  {
   "cell_type": "code",
   "execution_count": null,
   "metadata": {
    "id": "8yLD4v_VzxAD"
   },
   "outputs": [],
   "source": []
  }
 ],
 "metadata": {
  "colab": {
   "authorship_tag": "ABX9TyMD48yDFZ8c8MJWzBr2GI23",
   "provenance": [],
   "toc_visible": true
  },
  "kernelspec": {
   "display_name": "Python 3",
   "name": "python3"
  },
  "language_info": {
   "name": "python"
  }
 },
 "nbformat": 4,
 "nbformat_minor": 0
}
