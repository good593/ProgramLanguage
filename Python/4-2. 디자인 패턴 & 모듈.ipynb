{
 "cells": [
  {
   "cell_type": "markdown",
   "metadata": {},
   "source": [
    "# [디자인 패턴이란?](https://oobwrite.com/entry/%EB%94%94%EC%9E%90%EC%9D%B8-%ED%8C%A8%ED%84%B4Design-Pattern-%EC%B4%9D%EC%A0%95%EB%A6%AC-23%EA%B0%80%EC%A7%80-%EB%94%94%EC%9E%90%EC%9D%B8-%ED%8C%A8%ED%84%B4-%EC%A0%95%EC%9D%98-%EC%A2%85%EB%A5%98-%EC%9E%A5%EB%8B%A8%EC%A0%90#toc3)\n",
    "- 디자인 패턴은 프로그램을 개발하는 과정에서 빈번하게 발생하는 문제를 정리해서 상황에 따라 간편하게 적용할 수 있게 정리한 것입니다. \n",
    "- 패턴을 익히고 적용함으로써, 초보 개발자도 광범위한 문제들을 직접 경험하지 않고도 빠르게 숙련된 개발자로 성장할 수 있습니다."
   ]
  },
  {
   "cell_type": "markdown",
   "metadata": {},
   "source": [
    "## 디자인 패턴의 주요 장점\n",
    "- 코드 재사용성 향상\n",
    "\t- 디자인 패턴은 재사용 가능한 코드의 개발을 촉진합니다. \n",
    "\t- 잘 정의된 패턴을 사용함으로써 개발자들은 반복적인 작업을 줄이고, 이미 검증된 솔루션을 활용하여 효율성을 높일 수 있습니다. \n",
    "\t- 이는 개발 시간을 단축시키고, 전반적인 프로젝트 비용을 줄이는 데 기여합니다.\n",
    "- 유지보수 용이성\n",
    "\t- 디자인 패턴은 소프트웨어의 유지보수를 단순화합니다. \n",
    "\t- 명확하고 일관된 설계 접근 방식을 채택함으로써, 코드는 더 읽기 쉽고 이해하기 쉬워집니다. \n",
    "\t- 이는 버그의 식별과 수정을 용이하게 하고, 시스템의 확장성과 유연성을 향상시킵니다.\n",
    "- 팀 커뮤니케이션 개선\n",
    "\t- 디자인 패턴은 개발자 간의 효과적인 커뮤니케이션을 촉진합니다. \n",
    "\t- 공통된 용어와 개념을 사용함으로써, 팀원들은 더 빠르고 정확하게 아이디어를 전달하고 이해할 수 있습니다. \n",
    "\t- 이는 협업을 강화하고, 프로젝트의 진행 속도를 높이는 데 중요한 역할을 합니다.\n",
    "- 효과적인 문제 해결\n",
    "\t- 디자인 패턴은 복잡한 문제를 구조화하고 해결하는 데 도움을 줍니다. \n",
    "\t- 각 패턴은 특정 문제 유형에 최적화된 해결책을 제공하며, 이를 통해 개발자들은 효과적이고 신속하게 문제에 접근할 수 있습니다.\n",
    "- 장기적인 시스템 안정성\n",
    "\t- 검증된 패턴의 사용은 시스템의 장기적인 안정성과 신뢰성을 보장합니다. \n",
    "\t- 이는 소프트웨어가 시간이 지남에 따라 변경되고 확장될 때 중요한 이점을 제공합니다."
   ]
  },
  {
   "cell_type": "markdown",
   "metadata": {},
   "source": [
    "## 디자인 패턴의 3가지 유형\n",
    "- 생성 패턴 (Creational Patterns)\n",
    "\t- 생성 패턴은 우리가 객체를 생성할 때와 관련된 문제에 대한 해결책을 다룹니다. \n",
    "\t- 이들은 객체 생성 과정을 보다 유연하게 만들어 주며, 코드의 타이트한 결합을 방지합니다. \n",
    "- 구조적 패턴 (Structural Patterns)\n",
    "\t- 구조적 패턴은 클래스와 객체를 조합하여 더 큰 구조를 형성하는 방법에 관한 것입니다. \n",
    "\t- 이들은 다양한 구조를 통해 클래스와 객체의 관계를 강화합니다.\n",
    "- 행동 패턴 (Behavioral Patterns)\n",
    "\t- 행동 패턴은 객체들 사이의 통신과 책임의 분배에 초점을 맞춥니다. \n",
    "\t- 이들은 복잡한 흐름 제어를 간소화하고, 객체 간의 상호작용을 더 효과적으로 만듭니다."
   ]
  },
  {
   "cell_type": "markdown",
   "metadata": {},
   "source": [
    "# [생성 패턴 > 싱글턴 패턴](https://jh-bk.tistory.com/43)\n",
    "- 한 클래스의 인스턴스가 오직 하나만 존재하도록 보장합니다.\n",
    "- 예를 들면 데이터를 데이터베이스로부터 불러오는 경우, 단 한번만 데이터를 불러오고 나서는 굳이 리소스를 들여 가며 추가적으로 데이터를 불러올 필요가 없을 수 있다."
   ]
  },
  {
   "cell_type": "markdown",
   "metadata": {},
   "source": [
    "## Method 1. Class Allocator\n",
    "- `__new__ 메소드`에서 기존에 인스턴스가 이미 만들어졌는지를 한번 판단한 후 없으면 새 걸, 있으면 기존 걸 리턴"
   ]
  },
  {
   "cell_type": "code",
   "execution_count": 15,
   "metadata": {},
   "outputs": [],
   "source": [
    "import random\n",
    "\n",
    "\n",
    "class Database:\n",
    "\t_instance = None\n",
    "\n",
    "\tdef __init__(self):\n",
    "\t\tself.id = random.randint(0, 10000)\n",
    "\t\tprint(f\"Instance ID: {self.id}\")\n",
    "\n",
    "\tdef __new__(cls, *args, **kwargs):\n",
    "\t\tif not cls._instance:\n",
    "\t\t\tcls._instance = super(Database, cls)\\\n",
    "\t\t\t\t.__new__(cls, *args, **kwargs)\n",
    "\n",
    "\t\treturn cls._instance"
   ]
  },
  {
   "cell_type": "markdown",
   "metadata": {},
   "source": [
    "- 하지만 이렇게만 해 둔다고 구현이 완전해지는 것은 아닌데, `__new__` 이후에 곧바로 호출되는 `__init__` 메소드 내부에서는 여전히 새 오브젝트를 만들어내고 있을 수 있기 때문이다. \n",
    "- `__new__`에서 같은 인스턴스를 반환한다 해도, 여전히 `__init__`은 매 인스턴스 호출마다 불리게 된다."
   ]
  },
  {
   "cell_type": "code",
   "execution_count": 16,
   "metadata": {},
   "outputs": [
    {
     "name": "stdout",
     "output_type": "stream",
     "text": [
      "Instance ID: 9006\n",
      "Instance ID: 1664\n",
      "True\n"
     ]
    }
   ],
   "source": [
    "db1 = Database()\n",
    "db2 = Database()\n",
    "\n",
    "print(db1 == db2) "
   ]
  },
  {
   "cell_type": "markdown",
   "metadata": {},
   "source": [
    "- 결과가 굉장히 이상한 것을 볼 수 있다. 첫번째, 두번째 호출 모두 별도로 `__init__` 함수가 돌아가고, 생성된 id 값도 다르다. 하지만 이후에 d1==d2를 검사해 보면 여전히 True가 반환되며, id를 각각 출력해 봤을 때도 동일한 id 값이 출력된다.\n",
    "- 초기화가 각각 한 번씩 돌지만 대상이 되는 인스턴스는 동일한 상황이기 때문에, 두 번째 초기화에서 생성한 값으로 덮어씌워지는 상황인 것이다."
   ]
  },
  {
   "cell_type": "code",
   "execution_count": 17,
   "metadata": {},
   "outputs": [
    {
     "name": "stdout",
     "output_type": "stream",
     "text": [
      "1664 1664\n"
     ]
    }
   ],
   "source": [
    "print(db1.id, db2.id)"
   ]
  },
  {
   "cell_type": "markdown",
   "metadata": {},
   "source": [
    "## Method 2. Decorator\n",
    "- 이 문제를 해결하는 방법 하나는 데코레이터를 활용하는 것이다."
   ]
  },
  {
   "cell_type": "code",
   "execution_count": 19,
   "metadata": {},
   "outputs": [],
   "source": [
    "import random\n",
    "\n",
    "def singleton(class_):\n",
    "\tinstances = {}\n",
    "\n",
    "\tdef get_instance(*args, **kwargs):\n",
    "\t\tif class_ not in instances:\n",
    "\t\t\tinstances[class_] = class_(*args, **kwargs)\n",
    "\t\treturn instances[class_]\n",
    "\n",
    "\treturn get_instance\n",
    "\n",
    "\n",
    "@singleton\n",
    "class Database:\n",
    "\tdef __init__(self):\n",
    "\t\tself.id = random.randint(0, 10000)\n",
    "\t\tprint(f\"Instance ID: {self.id}\")"
   ]
  },
  {
   "cell_type": "markdown",
   "metadata": {},
   "source": [
    "- 인스턴스 목록 state를 하나 데코레이터 내에 만들어 두고, 클래스 인스턴스 생성 전에 이미 해당 클래스의 인스턴스가 만들어져 있는 지 판단한 후, 있다면 해당 인스턴스를, 없다면 새로 만들어 반환하는 구현이다."
   ]
  },
  {
   "cell_type": "code",
   "execution_count": 20,
   "metadata": {},
   "outputs": [
    {
     "name": "stdout",
     "output_type": "stream",
     "text": [
      "Instance ID: 2578\n",
      "True\n"
     ]
    }
   ],
   "source": [
    "db1 = Database()\n",
    "db2 = Database()\n",
    "\n",
    "print(db1 == db2) "
   ]
  },
  {
   "cell_type": "code",
   "execution_count": 21,
   "metadata": {},
   "outputs": [
    {
     "name": "stdout",
     "output_type": "stream",
     "text": [
      "2578 2578\n"
     ]
    }
   ],
   "source": [
    "print(db1.id, db2.id)"
   ]
  },
  {
   "cell_type": "markdown",
   "metadata": {},
   "source": [
    "## Method 3. Metaclass\n",
    "- 인스턴스 목록을 state로 가지고 있는 메타클래스를 하나 정의해 구현할 수도 있다."
   ]
  },
  {
   "cell_type": "code",
   "execution_count": null,
   "metadata": {},
   "outputs": [],
   "source": [
    "import random\n",
    "\n",
    "class Singleton(type):\n",
    "\t_instances = {}\n",
    "\n",
    "\tdef __call__(cls, *args, **kwargs):\n",
    "\t\tif cls not in cls._instances:\n",
    "\t\t\tcls._instances[cls] = super(Singleton, cls)\\\n",
    "\t\t\t\t.__call__(*args, **kwargs)\n",
    "\t\treturn cls._instances[cls]\n",
    "\n",
    "\n",
    "class Database(metaclass=Singleton):\n",
    "\tdef __init__(self):\n",
    "\t\tself.id = random.randint(0, 10000)\n",
    "\t\tprint(f\"Instance ID: {self.id}\")"
   ]
  },
  {
   "cell_type": "markdown",
   "metadata": {},
   "source": [
    "- 클래스 인스턴스를 생성할 때 클래스 ~ 클래스 인스턴스 짝을 저장해 두고 있다가, 이후에 다시 생성할 때에는 해당 클래스 인스턴스가 존재하면 그걸 대신 내보내는 구현이다."
   ]
  },
  {
   "cell_type": "code",
   "execution_count": 22,
   "metadata": {},
   "outputs": [
    {
     "name": "stdout",
     "output_type": "stream",
     "text": [
      "True\n"
     ]
    }
   ],
   "source": [
    "db1 = Database()\n",
    "db2 = Database()\n",
    "\n",
    "print(db1 == db2) "
   ]
  },
  {
   "cell_type": "code",
   "execution_count": 23,
   "metadata": {},
   "outputs": [
    {
     "name": "stdout",
     "output_type": "stream",
     "text": [
      "2578 2578\n"
     ]
    }
   ],
   "source": [
    "print(db1.id, db2.id)"
   ]
  },
  {
   "cell_type": "markdown",
   "metadata": {},
   "source": [
    "# [행동 패턴 > 전략](https://refactoring.guru/ko/design-patterns/strategy/python/example#example-0)\n",
    "- 전략은 행동들의 객체들을 객체들로 변환하며 이들이 원래 콘텍스트 객체 내에서 상호 교환이 가능하게 만드는 행동 디자인 패턴입니다."
   ]
  },
  {
   "cell_type": "code",
   "execution_count": 3,
   "metadata": {},
   "outputs": [],
   "source": [
    "from __future__ import annotations\n",
    "from abc import ABC, abstractmethod\n",
    "from typing import List\n",
    "\n",
    "class Strategy(ABC):\n",
    "    \"\"\"\n",
    "    The Strategy interface declares operations common to all supported versions\n",
    "    of some algorithm.\n",
    "\n",
    "    The Context uses this interface to call the algorithm defined by Concrete\n",
    "    Strategies.\n",
    "    \"\"\"\n",
    "\n",
    "    @abstractmethod\n",
    "    def do_algorithm(self, data: List):\n",
    "        pass\n"
   ]
  },
  {
   "cell_type": "code",
   "execution_count": 4,
   "metadata": {},
   "outputs": [],
   "source": [
    "class Context():\n",
    "    \"\"\"\n",
    "    The Context defines the interface of interest to clients.\n",
    "    \"\"\"\n",
    "\n",
    "    def __init__(self, strategy: Strategy) -> None:\n",
    "        \"\"\"\n",
    "        Usually, the Context accepts a strategy through the constructor, but\n",
    "        also provides a setter to change it at runtime.\n",
    "        \"\"\"\n",
    "\n",
    "        self._strategy = strategy\n",
    "\n",
    "    @property\n",
    "    def strategy(self) -> Strategy:\n",
    "        \"\"\"\n",
    "        The Context maintains a reference to one of the Strategy objects. The\n",
    "        Context does not know the concrete class of a strategy. It should work\n",
    "        with all strategies via the Strategy interface.\n",
    "        \"\"\"\n",
    "\n",
    "        return self._strategy\n",
    "\n",
    "    @strategy.setter\n",
    "    def strategy(self, strategy: Strategy) -> None:\n",
    "        \"\"\"\n",
    "        Usually, the Context allows replacing a Strategy object at runtime.\n",
    "        \"\"\"\n",
    "\n",
    "        self._strategy = strategy\n",
    "\n",
    "    def do_some_business_logic(self) -> None:\n",
    "        \"\"\"\n",
    "        The Context delegates some work to the Strategy object instead of\n",
    "        implementing multiple versions of the algorithm on its own.\n",
    "        \"\"\"\n",
    "\n",
    "        # ...\n",
    "\n",
    "        print(\"Context: Sorting data using the strategy (not sure how it'll do it)\")\n",
    "        result = self._strategy.do_algorithm([\"a\", \"b\", \"c\", \"d\", \"e\"])\n",
    "        print(\",\".join(result))\n",
    "\n",
    "        # ...\n"
   ]
  },
  {
   "cell_type": "code",
   "execution_count": 5,
   "metadata": {},
   "outputs": [],
   "source": [
    "class ConcreteStrategyA(Strategy):\n",
    "    def do_algorithm(self, data: List) -> List:\n",
    "        return sorted(data)\n",
    "\n",
    "\n",
    "class ConcreteStrategyB(Strategy):\n",
    "    def do_algorithm(self, data: List) -> List:\n",
    "        return reversed(sorted(data))\n"
   ]
  },
  {
   "cell_type": "code",
   "execution_count": 6,
   "metadata": {},
   "outputs": [
    {
     "name": "stdout",
     "output_type": "stream",
     "text": [
      "Client: Strategy is set to normal sorting.\n",
      "Context: Sorting data using the strategy (not sure how it'll do it)\n",
      "a,b,c,d,e\n",
      "\n",
      "Client: Strategy is set to reverse sorting.\n",
      "Context: Sorting data using the strategy (not sure how it'll do it)\n",
      "e,d,c,b,a\n"
     ]
    }
   ],
   "source": [
    "context = Context(ConcreteStrategyA())\n",
    "print(\"Client: Strategy is set to normal sorting.\")\n",
    "context.do_some_business_logic()\n",
    "print()\n",
    "\n",
    "print(\"Client: Strategy is set to reverse sorting.\")\n",
    "context.strategy = ConcreteStrategyB()\n",
    "context.do_some_business_logic()"
   ]
  },
  {
   "cell_type": "markdown",
   "metadata": {
    "id": "Ow4RtmY0yaTG"
   },
   "source": [
    "# [모듈(Module)](https://wikidocs.net/29), [패키지(Package)](https://wikidocs.net/1418)\n",
    "- 모듈: 변수, 함수, 클래스를 모아놓은 `.py` 확장자 파일\n",
    "    - `.py` 파일: 마크다운이나 셀같은 정보는 없고 순수한 파이썬 코드만 존재\n",
    "    - `.ipynb` 파일: 데이터분석가(과학자)들이 파이썬 언어와 데이터로 작업하고 실험할수 있도록 도와주는 Interactive 한 개발 환경에서 실행되는 파일\n",
    "- 패키지: 모듈의 기능을 폴더별로 정리한 개념\n",
    "    - 패키지생성: 기능별로 폴더를 정리하는것과 비슷한 개념\n",
    "\n",
    "```python\n",
    "# 모듈 불러오기\n",
    "import <모듈명>\n",
    "\n",
    "# 패키지에서 모듈 불러오기\n",
    "from <패키지명> import <모듈명>\n",
    "\n",
    "# 모듈 안에 함수와 클래스 불러오기\n",
    "from <모듈명> import <함수 or 클래스>\n",
    "\n",
    "# 별칭 주기\n",
    "import <모듈명> as <별칭>\n",
    "\n",
    "```"
   ]
  },
  {
   "cell_type": "code",
   "execution_count": null,
   "metadata": {
    "id": "ZWfGPIbBjIfq"
   },
   "outputs": [],
   "source": [
    "!mkdir common"
   ]
  },
  {
   "cell_type": "code",
   "execution_count": null,
   "metadata": {
    "colab": {
     "base_uri": "https://localhost:8080/"
    },
    "executionInfo": {
     "elapsed": 532,
     "status": "ok",
     "timestamp": 1678975823742,
     "user": {
      "displayName": "조경원",
      "userId": "10205523497785796707"
     },
     "user_tz": -540
    },
    "id": "n7ZImxTVjIid",
    "outputId": "ac3fb2ad-7a7b-4c87-cbbe-1460866466e2"
   },
   "outputs": [
    {
     "name": "stdout",
     "output_type": "stream",
     "text": [
      "Overwriting common/utils.py\n"
     ]
    }
   ],
   "source": [
    "%%writefile common/utils.py\n",
    "\n",
    "def add(a, b):\n",
    "  return a + b \n",
    "\n",
    "def sub(a, b):\n",
    "  return a - b \n",
    "\n",
    "if __name__ == \"__main__\":\n",
    "  print(add(3, 5))\n",
    "  print(sub(5, 3))"
   ]
  },
  {
   "cell_type": "markdown",
   "metadata": {
    "id": "O4FGFL5ow6bK"
   },
   "source": [
    "## `if __name__ == \"__main__\":`\n",
    "`if __name__ == \"__main__\"`를 아래와 같이 python을 이용해서 직접 실행하면, True가 되기 때문에 if문이 실행된다.    \n"
   ]
  },
  {
   "cell_type": "code",
   "execution_count": null,
   "metadata": {
    "colab": {
     "base_uri": "https://localhost:8080/"
    },
    "executionInfo": {
     "elapsed": 917,
     "status": "ok",
     "timestamp": 1678975826357,
     "user": {
      "displayName": "조경원",
      "userId": "10205523497785796707"
     },
     "user_tz": -540
    },
    "id": "7mUcC9sEoqui",
    "outputId": "c64b511e-4dab-45c5-f5d1-570929abbbb0"
   },
   "outputs": [
    {
     "name": "stdout",
     "output_type": "stream",
     "text": [
      "8\n",
      "2\n"
     ]
    }
   ],
   "source": [
    "!python common/utils.py"
   ]
  },
  {
   "cell_type": "markdown",
   "metadata": {
    "id": "SbQ8OM_Px9VG"
   },
   "source": [
    "하지만 `utils.py`\n",
    "를 임포트를 하게 되면, 아래와 같이 `__name__`이 모듈 이름 값으로 표현되기 때문에 해당 if문은 False가 된다."
   ]
  },
  {
   "cell_type": "code",
   "execution_count": null,
   "metadata": {
    "id": "aKdoEWyJxx29"
   },
   "outputs": [],
   "source": [
    "import common.utils as co_util"
   ]
  },
  {
   "cell_type": "code",
   "execution_count": null,
   "metadata": {
    "colab": {
     "base_uri": "https://localhost:8080/",
     "height": 36
    },
    "executionInfo": {
     "elapsed": 8,
     "status": "ok",
     "timestamp": 1678976203551,
     "user": {
      "displayName": "조경원",
      "userId": "10205523497785796707"
     },
     "user_tz": -540
    },
    "id": "-6qfD6E2x4Jk",
    "outputId": "07fb94dc-efcf-48f3-b3e4-e534f8435783"
   },
   "outputs": [
    {
     "data": {
      "application/vnd.google.colaboratory.intrinsic+json": {
       "type": "string"
      },
      "text/plain": [
       "'common.utils'"
      ]
     },
     "execution_count": 49,
     "metadata": {},
     "output_type": "execute_result"
    }
   ],
   "source": [
    "co_util.__name__"
   ]
  },
  {
   "cell_type": "code",
   "execution_count": null,
   "metadata": {
    "colab": {
     "base_uri": "https://localhost:8080/"
    },
    "executionInfo": {
     "elapsed": 6,
     "status": "ok",
     "timestamp": 1678976352353,
     "user": {
      "displayName": "조경원",
      "userId": "10205523497785796707"
     },
     "user_tz": -540
    },
    "id": "AkodUtn0ycjS",
    "outputId": "71388c9e-89ea-4c3f-adfc-1f394ce00f5c"
   },
   "outputs": [
    {
     "data": {
      "text/plain": [
       "8"
      ]
     },
     "execution_count": 50,
     "metadata": {},
     "output_type": "execute_result"
    }
   ],
   "source": [
    "co_util.add(3, 5)"
   ]
  },
  {
   "cell_type": "code",
   "execution_count": null,
   "metadata": {
    "colab": {
     "base_uri": "https://localhost:8080/"
    },
    "executionInfo": {
     "elapsed": 3,
     "status": "ok",
     "timestamp": 1678976364399,
     "user": {
      "displayName": "조경원",
      "userId": "10205523497785796707"
     },
     "user_tz": -540
    },
    "id": "GMYADAMkyhX2",
    "outputId": "0cebe5c7-2179-429c-9d19-26181522d408"
   },
   "outputs": [
    {
     "data": {
      "text/plain": [
       "-2"
      ]
     },
     "execution_count": 51,
     "metadata": {},
     "output_type": "execute_result"
    }
   ],
   "source": [
    "co_util.sub(3, 5)"
   ]
  },
  {
   "cell_type": "code",
   "execution_count": null,
   "metadata": {
    "id": "KT50art3rwBv"
   },
   "outputs": [],
   "source": [
    "from common.utils import add, sub"
   ]
  },
  {
   "cell_type": "code",
   "execution_count": null,
   "metadata": {
    "colab": {
     "base_uri": "https://localhost:8080/"
    },
    "executionInfo": {
     "elapsed": 640,
     "status": "ok",
     "timestamp": 1678975829258,
     "user": {
      "displayName": "조경원",
      "userId": "10205523497785796707"
     },
     "user_tz": -540
    },
    "id": "pjAX-kGks6YV",
    "outputId": "756bafcf-6fe2-431f-b874-59c5ad1e9a79"
   },
   "outputs": [
    {
     "data": {
      "text/plain": [
       "8"
      ]
     },
     "execution_count": 42,
     "metadata": {},
     "output_type": "execute_result"
    }
   ],
   "source": [
    "add(3, 5)"
   ]
  },
  {
   "cell_type": "code",
   "execution_count": null,
   "metadata": {
    "colab": {
     "base_uri": "https://localhost:8080/"
    },
    "executionInfo": {
     "elapsed": 1,
     "status": "ok",
     "timestamp": 1678975829762,
     "user": {
      "displayName": "조경원",
      "userId": "10205523497785796707"
     },
     "user_tz": -540
    },
    "id": "P6eb9AZxs7ut",
    "outputId": "6da27d1b-e155-431d-9dfc-4f7d63ee29e5"
   },
   "outputs": [
    {
     "data": {
      "text/plain": [
       "2"
      ]
     },
     "execution_count": 43,
     "metadata": {},
     "output_type": "execute_result"
    }
   ],
   "source": [
    "sub(5, 3)"
   ]
  }
 ],
 "metadata": {
  "colab": {
   "authorship_tag": "ABX9TyMD48yDFZ8c8MJWzBr2GI23",
   "provenance": [],
   "toc_visible": true
  },
  "kernelspec": {
   "display_name": "stock-venv",
   "language": "python",
   "name": "python3"
  },
  "language_info": {
   "codemirror_mode": {
    "name": "ipython",
    "version": 3
   },
   "file_extension": ".py",
   "mimetype": "text/x-python",
   "name": "python",
   "nbconvert_exporter": "python",
   "pygments_lexer": "ipython3",
   "version": "3.11.3"
  }
 },
 "nbformat": 4,
 "nbformat_minor": 0
}
